{
 "cells": [
  {
   "cell_type": "code",
   "execution_count": 1,
   "metadata": {
    "id": "view-in-github"
   },
   "outputs": [],
   "source": [
    "# Import standard libraries\n",
    "import pandas as pd\n",
    "import numpy as np\n",
    "import math\n",
    "import bs4 as bs\n",
    "import urllib.request\n",
    "import matplotlib.pyplot as plt\n",
    "import seaborn as sns\n",
    "\n",
    "# Import for text analytics\n",
    "import spacy\n",
    "from spacy import displacy\n",
    "from sklearn.feature_extraction.text import CountVectorizer, TfidfVectorizer\n",
    "from sklearn.metrics.pairwise import cosine_similarity\n",
    "import string\n",
    "import gensim\n",
    "from gensim.models import Word2Vec\n",
    "from gensim.models import Doc2Vec\n",
    "from gensim.models.doc2vec import TaggedDocument\n",
    "from gensim.utils import simple_preprocess\n",
    "from gensim import corpora\n",
    "import multiprocessing\n",
    "\n",
    "# Import libraries for logistic regression\n",
    "from sklearn.linear_model import LogisticRegression\n",
    "from sklearn.model_selection import train_test_split\n",
    "from sklearn.pipeline import Pipeline\n",
    "from sklearn.metrics import confusion_matrix, accuracy_score\n",
    "\n",
    "# Load English language model of spacy\n",
    "sp = spacy.load('en_core_web_sm')"
   ]
  },
  {
   "cell_type": "markdown",
   "metadata": {},
   "source": [
    "# Text Analytics 2: Word Embedding\n",
    "\n",
    "<img src='https://miro.medium.com/v2/resize:fit:1100/format:webp/0*QXJDYJTGexmpeQ43.jpg' width=\"450\">"
   ]
  },
  {
   "cell_type": "markdown",
   "metadata": {
    "id": "onO46LysT2dh"
   },
   "source": [
    "## Content\n",
    "\n",
    "In this walkthrough, we pursue our exploration of [Text Analytics](https://en.wikipedia.org/wiki/Text_mining), diving into [Word Embedding](https://en.wikipedia.org/wiki/Word_embedding) and doing an application on sentiment classification.\n",
    "\n",
    "- [Recap on text representation](#Recap-on-text-representation)\n",
    "    - [Some definitions](#Some-definitions)\n",
    "    - [Bag of Words (BOW)](#Bag-of-Words-(BOW))\n",
    "    - [TF-IDF](#TF-IDF)\n",
    "- [Introduction to Gensim and Word Embedding](#Introduction-to-Gensim-and-Word-Embedding)\n",
    "    - [Background](#Background)\n",
    "    - [Implementing Word2vec with Gensim](#Implementing-Word2vec-with-Gensim)\n",
    "    - [Your turn](#Your-turn)\n",
    "- [Application: Text Classification with TF-IDF vs Doc2Vec](#Application:-Text-Classification-with-TF-IDF-vs-Doc2Vec)\n",
    "    - [Load and clean data](#Load-and-clean-data)\n",
    "    - [Exploratory Data Analysis](#Exploratory-Data-Analysis)\n",
    "    - [Classification using TF-IDF and Logistic Regression](#Classification-using-TF-IDF-and-Logistic-Regression)\n",
    "    - [Classification using Doc2Vec and Logistic Regression](#Classification-using-Doc2Vec-and-Logistic-Regression)\n",
    "    - [How to improve the accuracy of a text classifier?](#How-to-improve-the-accuracy-of-a-text-classifier?)\n",
    "- [Further reading](#Further-reading)"
   ]
  },
  {
   "cell_type": "markdown",
   "metadata": {
    "id": "h0VsVUPLT4Tn"
   },
   "source": [
    "## Recap on text representation\n",
    "\n",
    "In order to be able to use texts as inputs for classification, we have to transform them into numbers (i.e., vectors). There are several ways of doing this. We recap in this section the concepts and techniques seen last week, namely Bag of Words and TF-IDF."
   ]
  },
  {
   "cell_type": "markdown",
   "metadata": {
    "id": "Q95eek-OIIPq"
   },
   "source": [
    "### Some definitions\n",
    "\n",
    "- Document = some text, i.e., a string (e.g., a sentence, a tweet, paragraph of text, book, news article, etc.).\n",
    "- Corpus = collection of documents.\n",
    "- Dictionary = list of unique tokens in (preprocessed) corpus.\n",
    "- Vector = mathematical representation of a document (e.g., Bag of Words).\n",
    "- Model = algorithm used for transforming vectors from one representation to another (e.g., TF-IDF)."
   ]
  },
  {
   "cell_type": "markdown",
   "metadata": {},
   "source": [
    "Let's illustrate these concepts in Python, using text from the article *[The decarbonisation of Europe powered by lifestyle changes](https://iopscience.iop.org/article/10.1088/1748-9326/abe890/meta)*.\n",
    "\n",
    "Reference: Costa, L., Moreau, V., et al. (2021). The decarbonisation of Europe powered by lifestyle changes. *Environmental Research Letters*, 16(4), 044057."
   ]
  },
  {
   "cell_type": "markdown",
   "metadata": {},
   "source": [
    "Recall that you can define a string using single quotes, double quotes, or triple quotes:"
   ]
  },
  {
   "cell_type": "code",
   "execution_count": 2,
   "metadata": {
    "id": "CZ0TKUegLawc"
   },
   "outputs": [],
   "source": [
    "# A document\n",
    "doc = 'Changes in behaviour may contribute more than 20% of the GHG emission reductions required for net-zero.' \n",
    "doc = \"Changes in behaviour may contribute more than 20% of the GHG emission reductions required for net-zero.\" \n",
    "doc = \"\"\"Changes in behaviour may contribute more than 20% of the GHG emission reductions required for net-zero.\"\"\" "
   ]
  },
  {
   "cell_type": "markdown",
   "metadata": {},
   "source": [
    "Here is a corpus, containing a collection of sentences:"
   ]
  },
  {
   "cell_type": "code",
   "execution_count": 3,
   "metadata": {
    "colab": {
     "base_uri": "https://localhost:8080/"
    },
    "id": "i6jZsQ-LLbIG",
    "outputId": "0a16c681-7e48-46ec-cfc4-9d649d588793"
   },
   "outputs": [
    {
     "data": {
      "text/plain": [
       "['The impacts of behavioural change vary across sectors.',\n",
       " 'Changes in travel behaviour limit the rising demand for electricity.',\n",
       " 'Adopting a healthy diet reduces emissions substantially.',\n",
       " 'Without behavioural change, the dependency of Europe on carbon removal technologies increases.',\n",
       " 'Changes in lifestyles are crucial, contributing to achieving climate targets sooner.']"
      ]
     },
     "execution_count": 3,
     "metadata": {},
     "output_type": "execute_result"
    }
   ],
   "source": [
    "# A corpus\n",
    "d1 = \"The impacts of behavioural change vary across sectors.\"\n",
    "d2 = \"Changes in travel behaviour limit the rising demand for electricity.\"\n",
    "d3 = \"Adopting a healthy diet reduces emissions substantially.\"\n",
    "d4 = \"Without behavioural change, the dependency of Europe on carbon removal technologies increases.\"\n",
    "d5 = \"Changes in lifestyles are crucial, contributing to achieving climate targets sooner.\"\n",
    "corpus = [d1, d2, d3, d4, d5]\n",
    "corpus"
   ]
  },
  {
   "cell_type": "markdown",
   "metadata": {},
   "source": [
    "Let's create a dictionary for our corpus. First, we apply a simple preprocessing technique to convert each each sentence into a list of tokens (words). We are using the [Gensim](https://pypi.org/project/gensim/) library."
   ]
  },
  {
   "cell_type": "code",
   "execution_count": 4,
   "metadata": {},
   "outputs": [
    {
     "name": "stdout",
     "output_type": "stream",
     "text": [
      "[['the', 'impacts', 'of', 'behavioural', 'change', 'vary', 'across', 'sectors'], ['changes', 'in', 'travel', 'behaviour', 'limit', 'the', 'rising', 'demand', 'for', 'electricity'], ['adopting', 'healthy', 'diet', 'reduces', 'emissions', 'substantially'], ['without', 'behavioural', 'change', 'the', 'dependency', 'of', 'europe', 'on', 'carbon', 'removal', 'technologies', 'increases'], ['changes', 'in', 'lifestyles', 'are', 'crucial', 'contributing', 'to', 'achieving', 'climate', 'targets', 'sooner']]\n"
     ]
    }
   ],
   "source": [
    "# Preprocessing\n",
    "processed_corpus = [simple_preprocess(d) for d in corpus]\n",
    "print(processed_corpus)"
   ]
  },
  {
   "cell_type": "markdown",
   "metadata": {},
   "source": [
    "We now create our dictionary, obtaining a mapping between each word in our corpus and an associated integer identification:"
   ]
  },
  {
   "cell_type": "code",
   "execution_count": 5,
   "metadata": {
    "colab": {
     "base_uri": "https://localhost:8080/"
    },
    "id": "bHO4IVeaN03k",
    "outputId": "eef74bbd-ecce-4bc6-f867-c53c6c87ec09"
   },
   "outputs": [
    {
     "name": "stdout",
     "output_type": "stream",
     "text": [
      "Dictionary<40 unique tokens: ['across', 'behavioural', 'change', 'impacts', 'of']...>\n"
     ]
    }
   ],
   "source": [
    "# A dictionary\n",
    "dictionary = corpora.Dictionary(processed_corpus)\n",
    "print(dictionary)"
   ]
  },
  {
   "cell_type": "code",
   "execution_count": 6,
   "metadata": {
    "colab": {
     "base_uri": "https://localhost:8080/"
    },
    "id": "M3v9-RrzN0rd",
    "outputId": "d5a44cda-99ce-48d9-baba-8e1bed551aa3"
   },
   "outputs": [
    {
     "name": "stdout",
     "output_type": "stream",
     "text": [
      "{'across': 0, 'behavioural': 1, 'change': 2, 'impacts': 3, 'of': 4, 'sectors': 5, 'the': 6, 'vary': 7, 'behaviour': 8, 'changes': 9, 'demand': 10, 'electricity': 11, 'for': 12, 'in': 13, 'limit': 14, 'rising': 15, 'travel': 16, 'adopting': 17, 'diet': 18, 'emissions': 19, 'healthy': 20, 'reduces': 21, 'substantially': 22, 'carbon': 23, 'dependency': 24, 'europe': 25, 'increases': 26, 'on': 27, 'removal': 28, 'technologies': 29, 'without': 30, 'achieving': 31, 'are': 32, 'climate': 33, 'contributing': 34, 'crucial': 35, 'lifestyles': 36, 'sooner': 37, 'targets': 38, 'to': 39}\n"
     ]
    }
   ],
   "source": [
    "print(dictionary.token2id)"
   ]
  },
  {
   "cell_type": "markdown",
   "metadata": {
    "id": "cHvrJj5yT8uQ"
   },
   "source": [
    "### Bag of Words (BOW)\n",
    "\n",
    "**Bag of Words (BOW)** is the simplest approach to achieve the transformation of documents into vectors. It is divided into two basic steps:\n",
    "- Create a dictionary of unique words from the corpus.\n",
    "- Analyse the documents, i.e. for each word in the dictionary and each document, add 1 if the word is in the document, otherwise 0.\n",
    "\n",
    "Let's implement BOW from scratch using the [spaCy](https://spacy.io/) library. We first define two functions: the first one to get the words of a document and the second to get the unique words of a corpus of documents."
   ]
  },
  {
   "cell_type": "code",
   "execution_count": 7,
   "metadata": {},
   "outputs": [],
   "source": [
    "# Tokens in document\n",
    "def get_tokens(document):\n",
    "    doc_tokens = ([token.lower_ for token in sp(document) \n",
    "                   if (token.is_punct == False) and (token.is_space == False)])\n",
    "    return doc_tokens"
   ]
  },
  {
   "cell_type": "code",
   "execution_count": 8,
   "metadata": {},
   "outputs": [
    {
     "data": {
      "text/plain": [
       "['the', 'impacts', 'of', 'behavioural', 'change', 'vary', 'across', 'sectors']"
      ]
     },
     "execution_count": 8,
     "metadata": {},
     "output_type": "execute_result"
    }
   ],
   "source": [
    "get_tokens(d1)"
   ]
  },
  {
   "cell_type": "code",
   "execution_count": 9,
   "metadata": {
    "colab": {
     "base_uri": "https://localhost:8080/"
    },
    "id": "KkeTK3afT0yz",
    "outputId": "f7e74945-27c0-4c42-fc02-b2b75c3bf7e0"
   },
   "outputs": [],
   "source": [
    "# List of unique words in corpus (dictionary)\n",
    "def vocabulary(corpus):\n",
    "    # Delare output\n",
    "    word_list = []\n",
    "    # Loop documents - lower each word and add it to the output\n",
    "    for document in corpus:\n",
    "        spacy_doc = sp(document)\n",
    "        for token in spacy_doc:\n",
    "            if token.lower_ not in word_list and (token.is_punct == False) and (token.is_space == False):\n",
    "                word_list.append(token.lower_)\n",
    "    # Return output\n",
    "    return word_list"
   ]
  },
  {
   "cell_type": "code",
   "execution_count": 10,
   "metadata": {},
   "outputs": [
    {
     "name": "stdout",
     "output_type": "stream",
     "text": [
      "['the', 'impacts', 'of', 'behavioural', 'change', 'vary', 'across', 'sectors', 'changes', 'in', 'travel', 'behaviour', 'limit', 'rising', 'demand', 'for', 'electricity', 'adopting', 'a', 'healthy', 'diet', 'reduces', 'emissions', 'substantially', 'without', 'dependency', 'europe', 'on', 'carbon', 'removal', 'technologies', 'increases', 'lifestyles', 'are', 'crucial', 'contributing', 'to', 'achieving', 'climate', 'targets', 'sooner']\n"
     ]
    }
   ],
   "source": [
    "print(vocabulary(corpus))"
   ]
  },
  {
   "cell_type": "markdown",
   "metadata": {
    "id": "cFNFfyN6UkAh"
   },
   "source": [
    "We use our two functions to create the Bag of Words. "
   ]
  },
  {
   "cell_type": "code",
   "execution_count": 11,
   "metadata": {
    "colab": {
     "base_uri": "https://localhost:8080/"
    },
    "id": "_1DSadtqT1ri",
    "outputId": "873193df-a6c4-4b8f-d2ef-3cd0bd84557b"
   },
   "outputs": [],
   "source": [
    "# Bag of Words\n",
    "def bow(document, corpus):\n",
    "    # Get tokens\n",
    "    doc_tokens = get_tokens(document)\n",
    "    corpus_tokens = vocabulary(corpus)\n",
    "    # Initialization\n",
    "    bag = {}\n",
    "    for token in corpus_tokens:\n",
    "        bag[token] = 0\n",
    "    # Add 1 if token is in document\n",
    "    for token in doc_tokens:\n",
    "        bag[token] += 1\n",
    "    # Return\n",
    "    return bag"
   ]
  },
  {
   "cell_type": "markdown",
   "metadata": {},
   "source": [
    "Here is what we obtain for the first sentence of our corpus:"
   ]
  },
  {
   "cell_type": "code",
   "execution_count": 12,
   "metadata": {},
   "outputs": [
    {
     "name": "stdout",
     "output_type": "stream",
     "text": [
      "{'the': 1, 'impacts': 1, 'of': 1, 'behavioural': 1, 'change': 1, 'vary': 1, 'across': 1, 'sectors': 1, 'changes': 0, 'in': 0, 'travel': 0, 'behaviour': 0, 'limit': 0, 'rising': 0, 'demand': 0, 'for': 0, 'electricity': 0, 'adopting': 0, 'a': 0, 'healthy': 0, 'diet': 0, 'reduces': 0, 'emissions': 0, 'substantially': 0, 'without': 0, 'dependency': 0, 'europe': 0, 'on': 0, 'carbon': 0, 'removal': 0, 'technologies': 0, 'increases': 0, 'lifestyles': 0, 'are': 0, 'crucial': 0, 'contributing': 0, 'to': 0, 'achieving': 0, 'climate': 0, 'targets': 0, 'sooner': 0}\n"
     ]
    }
   ],
   "source": [
    "print(bow(d1, corpus))"
   ]
  },
  {
   "cell_type": "markdown",
   "metadata": {},
   "source": [
    "Let's do the same for all our documents and visualize the result in a dataframe:"
   ]
  },
  {
   "cell_type": "code",
   "execution_count": 13,
   "metadata": {
    "colab": {
     "base_uri": "https://localhost:8080/",
     "height": 235
    },
    "id": "EbfVjwmYYU0H",
    "outputId": "d5af7b0e-720c-4b8c-9cf7-e4c40b8a1e07"
   },
   "outputs": [
    {
     "data": {
      "text/html": [
       "<div>\n",
       "<style scoped>\n",
       "    .dataframe tbody tr th:only-of-type {\n",
       "        vertical-align: middle;\n",
       "    }\n",
       "\n",
       "    .dataframe tbody tr th {\n",
       "        vertical-align: top;\n",
       "    }\n",
       "\n",
       "    .dataframe thead th {\n",
       "        text-align: right;\n",
       "    }\n",
       "</style>\n",
       "<table border=\"1\" class=\"dataframe\">\n",
       "  <thead>\n",
       "    <tr style=\"text-align: right;\">\n",
       "      <th></th>\n",
       "      <th>the</th>\n",
       "      <th>impacts</th>\n",
       "      <th>of</th>\n",
       "      <th>behavioural</th>\n",
       "      <th>change</th>\n",
       "      <th>vary</th>\n",
       "      <th>across</th>\n",
       "      <th>sectors</th>\n",
       "      <th>changes</th>\n",
       "      <th>in</th>\n",
       "      <th>travel</th>\n",
       "      <th>behaviour</th>\n",
       "      <th>limit</th>\n",
       "      <th>rising</th>\n",
       "      <th>demand</th>\n",
       "      <th>for</th>\n",
       "      <th>electricity</th>\n",
       "      <th>adopting</th>\n",
       "      <th>a</th>\n",
       "      <th>healthy</th>\n",
       "      <th>diet</th>\n",
       "      <th>reduces</th>\n",
       "      <th>emissions</th>\n",
       "      <th>substantially</th>\n",
       "      <th>without</th>\n",
       "      <th>dependency</th>\n",
       "      <th>europe</th>\n",
       "      <th>on</th>\n",
       "      <th>carbon</th>\n",
       "      <th>removal</th>\n",
       "      <th>technologies</th>\n",
       "      <th>increases</th>\n",
       "      <th>lifestyles</th>\n",
       "      <th>are</th>\n",
       "      <th>crucial</th>\n",
       "      <th>contributing</th>\n",
       "      <th>to</th>\n",
       "      <th>achieving</th>\n",
       "      <th>climate</th>\n",
       "      <th>targets</th>\n",
       "      <th>sooner</th>\n",
       "    </tr>\n",
       "  </thead>\n",
       "  <tbody>\n",
       "    <tr>\n",
       "      <th>d1</th>\n",
       "      <td>1</td>\n",
       "      <td>1</td>\n",
       "      <td>1</td>\n",
       "      <td>1</td>\n",
       "      <td>1</td>\n",
       "      <td>1</td>\n",
       "      <td>1</td>\n",
       "      <td>1</td>\n",
       "      <td>0</td>\n",
       "      <td>0</td>\n",
       "      <td>0</td>\n",
       "      <td>0</td>\n",
       "      <td>0</td>\n",
       "      <td>0</td>\n",
       "      <td>0</td>\n",
       "      <td>0</td>\n",
       "      <td>0</td>\n",
       "      <td>0</td>\n",
       "      <td>0</td>\n",
       "      <td>0</td>\n",
       "      <td>0</td>\n",
       "      <td>0</td>\n",
       "      <td>0</td>\n",
       "      <td>0</td>\n",
       "      <td>0</td>\n",
       "      <td>0</td>\n",
       "      <td>0</td>\n",
       "      <td>0</td>\n",
       "      <td>0</td>\n",
       "      <td>0</td>\n",
       "      <td>0</td>\n",
       "      <td>0</td>\n",
       "      <td>0</td>\n",
       "      <td>0</td>\n",
       "      <td>0</td>\n",
       "      <td>0</td>\n",
       "      <td>0</td>\n",
       "      <td>0</td>\n",
       "      <td>0</td>\n",
       "      <td>0</td>\n",
       "      <td>0</td>\n",
       "    </tr>\n",
       "    <tr>\n",
       "      <th>d2</th>\n",
       "      <td>1</td>\n",
       "      <td>0</td>\n",
       "      <td>0</td>\n",
       "      <td>0</td>\n",
       "      <td>0</td>\n",
       "      <td>0</td>\n",
       "      <td>0</td>\n",
       "      <td>0</td>\n",
       "      <td>1</td>\n",
       "      <td>1</td>\n",
       "      <td>1</td>\n",
       "      <td>1</td>\n",
       "      <td>1</td>\n",
       "      <td>1</td>\n",
       "      <td>1</td>\n",
       "      <td>1</td>\n",
       "      <td>1</td>\n",
       "      <td>0</td>\n",
       "      <td>0</td>\n",
       "      <td>0</td>\n",
       "      <td>0</td>\n",
       "      <td>0</td>\n",
       "      <td>0</td>\n",
       "      <td>0</td>\n",
       "      <td>0</td>\n",
       "      <td>0</td>\n",
       "      <td>0</td>\n",
       "      <td>0</td>\n",
       "      <td>0</td>\n",
       "      <td>0</td>\n",
       "      <td>0</td>\n",
       "      <td>0</td>\n",
       "      <td>0</td>\n",
       "      <td>0</td>\n",
       "      <td>0</td>\n",
       "      <td>0</td>\n",
       "      <td>0</td>\n",
       "      <td>0</td>\n",
       "      <td>0</td>\n",
       "      <td>0</td>\n",
       "      <td>0</td>\n",
       "    </tr>\n",
       "    <tr>\n",
       "      <th>d3</th>\n",
       "      <td>0</td>\n",
       "      <td>0</td>\n",
       "      <td>0</td>\n",
       "      <td>0</td>\n",
       "      <td>0</td>\n",
       "      <td>0</td>\n",
       "      <td>0</td>\n",
       "      <td>0</td>\n",
       "      <td>0</td>\n",
       "      <td>0</td>\n",
       "      <td>0</td>\n",
       "      <td>0</td>\n",
       "      <td>0</td>\n",
       "      <td>0</td>\n",
       "      <td>0</td>\n",
       "      <td>0</td>\n",
       "      <td>0</td>\n",
       "      <td>1</td>\n",
       "      <td>1</td>\n",
       "      <td>1</td>\n",
       "      <td>1</td>\n",
       "      <td>1</td>\n",
       "      <td>1</td>\n",
       "      <td>1</td>\n",
       "      <td>0</td>\n",
       "      <td>0</td>\n",
       "      <td>0</td>\n",
       "      <td>0</td>\n",
       "      <td>0</td>\n",
       "      <td>0</td>\n",
       "      <td>0</td>\n",
       "      <td>0</td>\n",
       "      <td>0</td>\n",
       "      <td>0</td>\n",
       "      <td>0</td>\n",
       "      <td>0</td>\n",
       "      <td>0</td>\n",
       "      <td>0</td>\n",
       "      <td>0</td>\n",
       "      <td>0</td>\n",
       "      <td>0</td>\n",
       "    </tr>\n",
       "    <tr>\n",
       "      <th>d4</th>\n",
       "      <td>1</td>\n",
       "      <td>0</td>\n",
       "      <td>1</td>\n",
       "      <td>1</td>\n",
       "      <td>1</td>\n",
       "      <td>0</td>\n",
       "      <td>0</td>\n",
       "      <td>0</td>\n",
       "      <td>0</td>\n",
       "      <td>0</td>\n",
       "      <td>0</td>\n",
       "      <td>0</td>\n",
       "      <td>0</td>\n",
       "      <td>0</td>\n",
       "      <td>0</td>\n",
       "      <td>0</td>\n",
       "      <td>0</td>\n",
       "      <td>0</td>\n",
       "      <td>0</td>\n",
       "      <td>0</td>\n",
       "      <td>0</td>\n",
       "      <td>0</td>\n",
       "      <td>0</td>\n",
       "      <td>0</td>\n",
       "      <td>1</td>\n",
       "      <td>1</td>\n",
       "      <td>1</td>\n",
       "      <td>1</td>\n",
       "      <td>1</td>\n",
       "      <td>1</td>\n",
       "      <td>1</td>\n",
       "      <td>1</td>\n",
       "      <td>0</td>\n",
       "      <td>0</td>\n",
       "      <td>0</td>\n",
       "      <td>0</td>\n",
       "      <td>0</td>\n",
       "      <td>0</td>\n",
       "      <td>0</td>\n",
       "      <td>0</td>\n",
       "      <td>0</td>\n",
       "    </tr>\n",
       "    <tr>\n",
       "      <th>d5</th>\n",
       "      <td>0</td>\n",
       "      <td>0</td>\n",
       "      <td>0</td>\n",
       "      <td>0</td>\n",
       "      <td>0</td>\n",
       "      <td>0</td>\n",
       "      <td>0</td>\n",
       "      <td>0</td>\n",
       "      <td>1</td>\n",
       "      <td>1</td>\n",
       "      <td>0</td>\n",
       "      <td>0</td>\n",
       "      <td>0</td>\n",
       "      <td>0</td>\n",
       "      <td>0</td>\n",
       "      <td>0</td>\n",
       "      <td>0</td>\n",
       "      <td>0</td>\n",
       "      <td>0</td>\n",
       "      <td>0</td>\n",
       "      <td>0</td>\n",
       "      <td>0</td>\n",
       "      <td>0</td>\n",
       "      <td>0</td>\n",
       "      <td>0</td>\n",
       "      <td>0</td>\n",
       "      <td>0</td>\n",
       "      <td>0</td>\n",
       "      <td>0</td>\n",
       "      <td>0</td>\n",
       "      <td>0</td>\n",
       "      <td>0</td>\n",
       "      <td>1</td>\n",
       "      <td>1</td>\n",
       "      <td>1</td>\n",
       "      <td>1</td>\n",
       "      <td>1</td>\n",
       "      <td>1</td>\n",
       "      <td>1</td>\n",
       "      <td>1</td>\n",
       "      <td>1</td>\n",
       "    </tr>\n",
       "  </tbody>\n",
       "</table>\n",
       "</div>"
      ],
      "text/plain": [
       "    the  impacts  of  behavioural  change  vary  across  sectors  changes  in  \\\n",
       "d1    1        1   1            1       1     1       1        1        0   0   \n",
       "d2    1        0   0            0       0     0       0        0        1   1   \n",
       "d3    0        0   0            0       0     0       0        0        0   0   \n",
       "d4    1        0   1            1       1     0       0        0        0   0   \n",
       "d5    0        0   0            0       0     0       0        0        1   1   \n",
       "\n",
       "    travel  behaviour  limit  rising  demand  for  electricity  adopting  a  \\\n",
       "d1       0          0      0       0       0    0            0         0  0   \n",
       "d2       1          1      1       1       1    1            1         0  0   \n",
       "d3       0          0      0       0       0    0            0         1  1   \n",
       "d4       0          0      0       0       0    0            0         0  0   \n",
       "d5       0          0      0       0       0    0            0         0  0   \n",
       "\n",
       "    healthy  diet  reduces  emissions  substantially  without  dependency  \\\n",
       "d1        0     0        0          0              0        0           0   \n",
       "d2        0     0        0          0              0        0           0   \n",
       "d3        1     1        1          1              1        0           0   \n",
       "d4        0     0        0          0              0        1           1   \n",
       "d5        0     0        0          0              0        0           0   \n",
       "\n",
       "    europe  on  carbon  removal  technologies  increases  lifestyles  are  \\\n",
       "d1       0   0       0        0             0          0           0    0   \n",
       "d2       0   0       0        0             0          0           0    0   \n",
       "d3       0   0       0        0             0          0           0    0   \n",
       "d4       1   1       1        1             1          1           0    0   \n",
       "d5       0   0       0        0             0          0           1    1   \n",
       "\n",
       "    crucial  contributing  to  achieving  climate  targets  sooner  \n",
       "d1        0             0   0          0        0        0       0  \n",
       "d2        0             0   0          0        0        0       0  \n",
       "d3        0             0   0          0        0        0       0  \n",
       "d4        0             0   0          0        0        0       0  \n",
       "d5        1             1   1          1        1        1       1  "
      ]
     },
     "execution_count": 13,
     "metadata": {},
     "output_type": "execute_result"
    }
   ],
   "source": [
    "# BOW for all documents in corpus\n",
    "bag_of_words = [bow(d, corpus) for d in corpus]\n",
    "\n",
    "# Visualize in dataframe\n",
    "pd.set_option(\"display.max_columns\", None)\n",
    "pd.DataFrame(bag_of_words,\n",
    "    index= ['d1', 'd2', 'd3', 'd4', 'd5']\n",
    "    )"
   ]
  },
  {
   "cell_type": "markdown",
   "metadata": {
    "id": "yr1EQmIeYSqi"
   },
   "source": [
    "Note that this is not perfect. We could (should) remove stopwords, use lemmatization, and potentially consider n-grams.\n",
    "\n",
    "Instead of implementing the technique from scratch, we can rely on the `CountVectorizer` class of sklearn ([Documentation](https://scikit-learn.org/stable/modules/generated/sklearn.feature_extraction.text.CountVectorizer.html)):"
   ]
  },
  {
   "cell_type": "code",
   "execution_count": 14,
   "metadata": {
    "colab": {
     "base_uri": "https://localhost:8080/"
    },
    "id": "eTCKo-uohh_X",
    "outputId": "1eca31e5-c5cc-40d2-bd84-01e0ca972a28"
   },
   "outputs": [
    {
     "data": {
      "text/html": [
       "<div>\n",
       "<style scoped>\n",
       "    .dataframe tbody tr th:only-of-type {\n",
       "        vertical-align: middle;\n",
       "    }\n",
       "\n",
       "    .dataframe tbody tr th {\n",
       "        vertical-align: top;\n",
       "    }\n",
       "\n",
       "    .dataframe thead th {\n",
       "        text-align: right;\n",
       "    }\n",
       "</style>\n",
       "<table border=\"1\" class=\"dataframe\">\n",
       "  <thead>\n",
       "    <tr style=\"text-align: right;\">\n",
       "      <th></th>\n",
       "      <th>achieving</th>\n",
       "      <th>across</th>\n",
       "      <th>adopting</th>\n",
       "      <th>are</th>\n",
       "      <th>behaviour</th>\n",
       "      <th>behavioural</th>\n",
       "      <th>carbon</th>\n",
       "      <th>change</th>\n",
       "      <th>changes</th>\n",
       "      <th>climate</th>\n",
       "      <th>contributing</th>\n",
       "      <th>crucial</th>\n",
       "      <th>demand</th>\n",
       "      <th>dependency</th>\n",
       "      <th>diet</th>\n",
       "      <th>electricity</th>\n",
       "      <th>emissions</th>\n",
       "      <th>europe</th>\n",
       "      <th>for</th>\n",
       "      <th>healthy</th>\n",
       "      <th>impacts</th>\n",
       "      <th>in</th>\n",
       "      <th>increases</th>\n",
       "      <th>lifestyles</th>\n",
       "      <th>limit</th>\n",
       "      <th>of</th>\n",
       "      <th>on</th>\n",
       "      <th>reduces</th>\n",
       "      <th>removal</th>\n",
       "      <th>rising</th>\n",
       "      <th>sectors</th>\n",
       "      <th>sooner</th>\n",
       "      <th>substantially</th>\n",
       "      <th>targets</th>\n",
       "      <th>technologies</th>\n",
       "      <th>the</th>\n",
       "      <th>to</th>\n",
       "      <th>travel</th>\n",
       "      <th>vary</th>\n",
       "      <th>without</th>\n",
       "    </tr>\n",
       "  </thead>\n",
       "  <tbody>\n",
       "    <tr>\n",
       "      <th>d1</th>\n",
       "      <td>0</td>\n",
       "      <td>1</td>\n",
       "      <td>0</td>\n",
       "      <td>0</td>\n",
       "      <td>0</td>\n",
       "      <td>1</td>\n",
       "      <td>0</td>\n",
       "      <td>1</td>\n",
       "      <td>0</td>\n",
       "      <td>0</td>\n",
       "      <td>0</td>\n",
       "      <td>0</td>\n",
       "      <td>0</td>\n",
       "      <td>0</td>\n",
       "      <td>0</td>\n",
       "      <td>0</td>\n",
       "      <td>0</td>\n",
       "      <td>0</td>\n",
       "      <td>0</td>\n",
       "      <td>0</td>\n",
       "      <td>1</td>\n",
       "      <td>0</td>\n",
       "      <td>0</td>\n",
       "      <td>0</td>\n",
       "      <td>0</td>\n",
       "      <td>1</td>\n",
       "      <td>0</td>\n",
       "      <td>0</td>\n",
       "      <td>0</td>\n",
       "      <td>0</td>\n",
       "      <td>1</td>\n",
       "      <td>0</td>\n",
       "      <td>0</td>\n",
       "      <td>0</td>\n",
       "      <td>0</td>\n",
       "      <td>1</td>\n",
       "      <td>0</td>\n",
       "      <td>0</td>\n",
       "      <td>1</td>\n",
       "      <td>0</td>\n",
       "    </tr>\n",
       "    <tr>\n",
       "      <th>d2</th>\n",
       "      <td>0</td>\n",
       "      <td>0</td>\n",
       "      <td>0</td>\n",
       "      <td>0</td>\n",
       "      <td>1</td>\n",
       "      <td>0</td>\n",
       "      <td>0</td>\n",
       "      <td>0</td>\n",
       "      <td>1</td>\n",
       "      <td>0</td>\n",
       "      <td>0</td>\n",
       "      <td>0</td>\n",
       "      <td>1</td>\n",
       "      <td>0</td>\n",
       "      <td>0</td>\n",
       "      <td>1</td>\n",
       "      <td>0</td>\n",
       "      <td>0</td>\n",
       "      <td>1</td>\n",
       "      <td>0</td>\n",
       "      <td>0</td>\n",
       "      <td>1</td>\n",
       "      <td>0</td>\n",
       "      <td>0</td>\n",
       "      <td>1</td>\n",
       "      <td>0</td>\n",
       "      <td>0</td>\n",
       "      <td>0</td>\n",
       "      <td>0</td>\n",
       "      <td>1</td>\n",
       "      <td>0</td>\n",
       "      <td>0</td>\n",
       "      <td>0</td>\n",
       "      <td>0</td>\n",
       "      <td>0</td>\n",
       "      <td>1</td>\n",
       "      <td>0</td>\n",
       "      <td>1</td>\n",
       "      <td>0</td>\n",
       "      <td>0</td>\n",
       "    </tr>\n",
       "    <tr>\n",
       "      <th>d3</th>\n",
       "      <td>0</td>\n",
       "      <td>0</td>\n",
       "      <td>1</td>\n",
       "      <td>0</td>\n",
       "      <td>0</td>\n",
       "      <td>0</td>\n",
       "      <td>0</td>\n",
       "      <td>0</td>\n",
       "      <td>0</td>\n",
       "      <td>0</td>\n",
       "      <td>0</td>\n",
       "      <td>0</td>\n",
       "      <td>0</td>\n",
       "      <td>0</td>\n",
       "      <td>1</td>\n",
       "      <td>0</td>\n",
       "      <td>1</td>\n",
       "      <td>0</td>\n",
       "      <td>0</td>\n",
       "      <td>1</td>\n",
       "      <td>0</td>\n",
       "      <td>0</td>\n",
       "      <td>0</td>\n",
       "      <td>0</td>\n",
       "      <td>0</td>\n",
       "      <td>0</td>\n",
       "      <td>0</td>\n",
       "      <td>1</td>\n",
       "      <td>0</td>\n",
       "      <td>0</td>\n",
       "      <td>0</td>\n",
       "      <td>0</td>\n",
       "      <td>1</td>\n",
       "      <td>0</td>\n",
       "      <td>0</td>\n",
       "      <td>0</td>\n",
       "      <td>0</td>\n",
       "      <td>0</td>\n",
       "      <td>0</td>\n",
       "      <td>0</td>\n",
       "    </tr>\n",
       "    <tr>\n",
       "      <th>d4</th>\n",
       "      <td>0</td>\n",
       "      <td>0</td>\n",
       "      <td>0</td>\n",
       "      <td>0</td>\n",
       "      <td>0</td>\n",
       "      <td>1</td>\n",
       "      <td>1</td>\n",
       "      <td>1</td>\n",
       "      <td>0</td>\n",
       "      <td>0</td>\n",
       "      <td>0</td>\n",
       "      <td>0</td>\n",
       "      <td>0</td>\n",
       "      <td>1</td>\n",
       "      <td>0</td>\n",
       "      <td>0</td>\n",
       "      <td>0</td>\n",
       "      <td>1</td>\n",
       "      <td>0</td>\n",
       "      <td>0</td>\n",
       "      <td>0</td>\n",
       "      <td>0</td>\n",
       "      <td>1</td>\n",
       "      <td>0</td>\n",
       "      <td>0</td>\n",
       "      <td>1</td>\n",
       "      <td>1</td>\n",
       "      <td>0</td>\n",
       "      <td>1</td>\n",
       "      <td>0</td>\n",
       "      <td>0</td>\n",
       "      <td>0</td>\n",
       "      <td>0</td>\n",
       "      <td>0</td>\n",
       "      <td>1</td>\n",
       "      <td>1</td>\n",
       "      <td>0</td>\n",
       "      <td>0</td>\n",
       "      <td>0</td>\n",
       "      <td>1</td>\n",
       "    </tr>\n",
       "    <tr>\n",
       "      <th>d5</th>\n",
       "      <td>1</td>\n",
       "      <td>0</td>\n",
       "      <td>0</td>\n",
       "      <td>1</td>\n",
       "      <td>0</td>\n",
       "      <td>0</td>\n",
       "      <td>0</td>\n",
       "      <td>0</td>\n",
       "      <td>1</td>\n",
       "      <td>1</td>\n",
       "      <td>1</td>\n",
       "      <td>1</td>\n",
       "      <td>0</td>\n",
       "      <td>0</td>\n",
       "      <td>0</td>\n",
       "      <td>0</td>\n",
       "      <td>0</td>\n",
       "      <td>0</td>\n",
       "      <td>0</td>\n",
       "      <td>0</td>\n",
       "      <td>0</td>\n",
       "      <td>1</td>\n",
       "      <td>0</td>\n",
       "      <td>1</td>\n",
       "      <td>0</td>\n",
       "      <td>0</td>\n",
       "      <td>0</td>\n",
       "      <td>0</td>\n",
       "      <td>0</td>\n",
       "      <td>0</td>\n",
       "      <td>0</td>\n",
       "      <td>1</td>\n",
       "      <td>0</td>\n",
       "      <td>1</td>\n",
       "      <td>0</td>\n",
       "      <td>0</td>\n",
       "      <td>1</td>\n",
       "      <td>0</td>\n",
       "      <td>0</td>\n",
       "      <td>0</td>\n",
       "    </tr>\n",
       "  </tbody>\n",
       "</table>\n",
       "</div>"
      ],
      "text/plain": [
       "    achieving  across  adopting  are  behaviour  behavioural  carbon  change  \\\n",
       "d1          0       1         0    0          0            1       0       1   \n",
       "d2          0       0         0    0          1            0       0       0   \n",
       "d3          0       0         1    0          0            0       0       0   \n",
       "d4          0       0         0    0          0            1       1       1   \n",
       "d5          1       0         0    1          0            0       0       0   \n",
       "\n",
       "    changes  climate  contributing  crucial  demand  dependency  diet  \\\n",
       "d1        0        0             0        0       0           0     0   \n",
       "d2        1        0             0        0       1           0     0   \n",
       "d3        0        0             0        0       0           0     1   \n",
       "d4        0        0             0        0       0           1     0   \n",
       "d5        1        1             1        1       0           0     0   \n",
       "\n",
       "    electricity  emissions  europe  for  healthy  impacts  in  increases  \\\n",
       "d1            0          0       0    0        0        1   0          0   \n",
       "d2            1          0       0    1        0        0   1          0   \n",
       "d3            0          1       0    0        1        0   0          0   \n",
       "d4            0          0       1    0        0        0   0          1   \n",
       "d5            0          0       0    0        0        0   1          0   \n",
       "\n",
       "    lifestyles  limit  of  on  reduces  removal  rising  sectors  sooner  \\\n",
       "d1           0      0   1   0        0        0       0        1       0   \n",
       "d2           0      1   0   0        0        0       1        0       0   \n",
       "d3           0      0   0   0        1        0       0        0       0   \n",
       "d4           0      0   1   1        0        1       0        0       0   \n",
       "d5           1      0   0   0        0        0       0        0       1   \n",
       "\n",
       "    substantially  targets  technologies  the  to  travel  vary  without  \n",
       "d1              0        0             0    1   0       0     1        0  \n",
       "d2              0        0             0    1   0       1     0        0  \n",
       "d3              1        0             0    0   0       0     0        0  \n",
       "d4              0        0             1    1   0       0     0        1  \n",
       "d5              0        1             0    0   1       0     0        0  "
      ]
     },
     "execution_count": 14,
     "metadata": {},
     "output_type": "execute_result"
    }
   ],
   "source": [
    "# Initialize model\n",
    "vectorizer = CountVectorizer()\n",
    "\n",
    "# Learn the vocabulary dictionary and return document-term matrix\n",
    "bag_of_words = vectorizer.fit_transform(corpus).todense()\n",
    "\n",
    "# DataFrame\n",
    "bag_of_words = pd.DataFrame(bag_of_words, \n",
    "                            columns=vectorizer.get_feature_names_out(),\n",
    "                            index = ['d1', 'd2', 'd3', 'd4', 'd5'])\n",
    "bag_of_words"
   ]
  },
  {
   "cell_type": "markdown",
   "metadata": {
    "id": "EoU9xUZLkAZu"
   },
   "source": [
    "Advantages of BOW:\n",
    "- No need of huge corpus of words to get good results in practice.\n",
    "- Easy to understand (i.e., not mathematically complex).\n",
    "\n",
    "Disadvantages of BOW:\n",
    "- A lot of zeros (imagine a corpus of 1000 articles) --> consume memory and space.\n",
    "- Does not maintain any context information (\"I eat a fish\" vs. \"A fish eats me\").\n",
    "- Half solutions: n-grams, specifiying min_df and max_df (see [documentation](https://https://scikit-learn.org/stable/modules/generated/sklearn.feature_extraction.text.CountVectorizer.html))."
   ]
  },
  {
   "cell_type": "markdown",
   "metadata": {
    "id": "3CkpoOenUv7J"
   },
   "source": [
    "### TF-IDF\n",
    "\n",
    "**TF-IDF** is a type of bag of words approach where instead of adding zeros and ones in the embedding vector, we add floating numbers that contain more useful information. The idea is to emphasize words that appear in few documents in the corpus. A word that appear many times but only in one document will have a high value (close to one) compared to words that appear many times in many documents. This word is then very useful to identify the document.\n",
    "\n",
    "TF-IDF is the product of term frequency (TF) and inverse document frequency (IDF):\n",
    "- **Term Frequency** identifies tokens that appear frequently in a document: \n",
    "    - TF(token, document) = number of times token appears in document / total number of tokens in document\n",
    "    - greater if word appears many times in document\n",
    "- **Inverse Document Frequency** identifies words that appear rarely in the corpus: \n",
    "    - IDF(token, corpus) = log( total number of documents in corpus / number of documents containing token )\n",
    "    - greater if word appears in fewer doucuments\n",
    "    \n",
    "Ok, let's try implement from scratch TF-IDF! First, we define a function to compute the term frequency:"
   ]
  },
  {
   "cell_type": "code",
   "execution_count": 15,
   "metadata": {
    "colab": {
     "base_uri": "https://localhost:8080/"
    },
    "id": "HsTBjUmWUywM",
    "outputId": "cde8969c-72fb-46a4-fa52-623b0887ad35"
   },
   "outputs": [],
   "source": [
    "# Term frequency (TF)\n",
    "def tf(document):\n",
    "    # Get tokens\n",
    "    tokens = get_tokens(document)\n",
    "    # Initialization \n",
    "    term_freq = {token: 0 for token in tokens}  # Notice the use of comprehension!\n",
    "    # Increment\n",
    "    for token in tokens:\n",
    "        term_freq[token] += 1/len(tokens)\n",
    "    # Return\n",
    "    return term_freq"
   ]
  },
  {
   "cell_type": "markdown",
   "metadata": {},
   "source": [
    "Let's check our function:"
   ]
  },
  {
   "cell_type": "code",
   "execution_count": 16,
   "metadata": {},
   "outputs": [
    {
     "data": {
      "text/plain": [
       "{'the': 0.125,\n",
       " 'impacts': 0.125,\n",
       " 'of': 0.125,\n",
       " 'behavioural': 0.125,\n",
       " 'change': 0.125,\n",
       " 'vary': 0.125,\n",
       " 'across': 0.125,\n",
       " 'sectors': 0.125}"
      ]
     },
     "execution_count": 16,
     "metadata": {},
     "output_type": "execute_result"
    }
   ],
   "source": [
    "tf(d1)"
   ]
  },
  {
   "cell_type": "markdown",
   "metadata": {},
   "source": [
    "Each words appear once in our sentence, and the sentence contains 8 words. Hence, the frequency of each token is 1/8=0.125.\n",
    "\n",
    "Let's proceed, defining a function to compute the inverse document frequency:"
   ]
  },
  {
   "cell_type": "code",
   "execution_count": 17,
   "metadata": {
    "colab": {
     "base_uri": "https://localhost:8080/"
    },
    "id": "s3h8kaUxrmn5",
    "outputId": "ff3f6e09-c36a-45f3-a66b-fff46376bbb9"
   },
   "outputs": [],
   "source": [
    "# Inverse document frequency\n",
    "def idf(corpus):\n",
    "    # Get list of unique words in corpus\n",
    "    voc = vocabulary(corpus)\n",
    "    # Initialization\n",
    "    inv_doc_freq = {word: 0 for word in voc}\n",
    "    # Number of apparition of word\n",
    "    for word in voc:\n",
    "        for document in corpus:\n",
    "            doc_tokens = get_tokens(document)\n",
    "            if word in doc_tokens:\n",
    "                inv_doc_freq[word] += 1\n",
    "    # IDF\n",
    "    inv_doc_freq = {k: math.log(len(corpus) / inv_doc_freq[k]) for k in inv_doc_freq.keys()}\n",
    "    # Return\n",
    "    return inv_doc_freq"
   ]
  },
  {
   "cell_type": "markdown",
   "metadata": {},
   "source": [
    "Let's test our function:"
   ]
  },
  {
   "cell_type": "code",
   "execution_count": 18,
   "metadata": {},
   "outputs": [
    {
     "data": {
      "text/plain": [
       "{'the': 0.5108256237659907,\n",
       " 'impacts': 1.6094379124341003,\n",
       " 'of': 0.9162907318741551,\n",
       " 'behavioural': 0.9162907318741551,\n",
       " 'change': 0.9162907318741551,\n",
       " 'vary': 1.6094379124341003,\n",
       " 'across': 1.6094379124341003,\n",
       " 'sectors': 1.6094379124341003,\n",
       " 'changes': 0.9162907318741551,\n",
       " 'in': 0.9162907318741551,\n",
       " 'travel': 1.6094379124341003,\n",
       " 'behaviour': 1.6094379124341003,\n",
       " 'limit': 1.6094379124341003,\n",
       " 'rising': 1.6094379124341003,\n",
       " 'demand': 1.6094379124341003,\n",
       " 'for': 1.6094379124341003,\n",
       " 'electricity': 1.6094379124341003,\n",
       " 'adopting': 1.6094379124341003,\n",
       " 'a': 1.6094379124341003,\n",
       " 'healthy': 1.6094379124341003,\n",
       " 'diet': 1.6094379124341003,\n",
       " 'reduces': 1.6094379124341003,\n",
       " 'emissions': 1.6094379124341003,\n",
       " 'substantially': 1.6094379124341003,\n",
       " 'without': 1.6094379124341003,\n",
       " 'dependency': 1.6094379124341003,\n",
       " 'europe': 1.6094379124341003,\n",
       " 'on': 1.6094379124341003,\n",
       " 'carbon': 1.6094379124341003,\n",
       " 'removal': 1.6094379124341003,\n",
       " 'technologies': 1.6094379124341003,\n",
       " 'increases': 1.6094379124341003,\n",
       " 'lifestyles': 1.6094379124341003,\n",
       " 'are': 1.6094379124341003,\n",
       " 'crucial': 1.6094379124341003,\n",
       " 'contributing': 1.6094379124341003,\n",
       " 'to': 1.6094379124341003,\n",
       " 'achieving': 1.6094379124341003,\n",
       " 'climate': 1.6094379124341003,\n",
       " 'targets': 1.6094379124341003,\n",
       " 'sooner': 1.6094379124341003}"
      ]
     },
     "execution_count": 18,
     "metadata": {},
     "output_type": "execute_result"
    }
   ],
   "source": [
    "idf(corpus)"
   ]
  },
  {
   "cell_type": "markdown",
   "metadata": {},
   "source": [
    "Ok, finally we compute TF-IDF!"
   ]
  },
  {
   "cell_type": "code",
   "execution_count": 19,
   "metadata": {
    "colab": {
     "base_uri": "https://localhost:8080/"
    },
    "id": "bfgMl15xwOeP",
    "outputId": "255c356b-2beb-4f7e-fe33-bb6759eb5960"
   },
   "outputs": [],
   "source": [
    "# TF-IDF\n",
    "def tfidf(document, corpus):\n",
    "    # TF\n",
    "    tf_bag = tf(document)\n",
    "    # IDF\n",
    "    idf_bag = idf(corpus)\n",
    "    # TF*IDF\n",
    "    tfidf_bag = {k: tf_bag[k]*idf_bag[k] for k in tf_bag.keys()}\n",
    "    return tfidf_bag"
   ]
  },
  {
   "cell_type": "markdown",
   "metadata": {},
   "source": [
    "Let's see the result for the first sentence of our corpus:"
   ]
  },
  {
   "cell_type": "code",
   "execution_count": 20,
   "metadata": {},
   "outputs": [
    {
     "data": {
      "text/plain": [
       "{'the': 0.06385320297074884,\n",
       " 'impacts': 0.20117973905426254,\n",
       " 'of': 0.11453634148426939,\n",
       " 'behavioural': 0.11453634148426939,\n",
       " 'change': 0.11453634148426939,\n",
       " 'vary': 0.20117973905426254,\n",
       " 'across': 0.20117973905426254,\n",
       " 'sectors': 0.20117973905426254}"
      ]
     },
     "execution_count": 20,
     "metadata": {},
     "output_type": "execute_result"
    }
   ],
   "source": [
    "tfidf(d1, corpus)"
   ]
  },
  {
   "cell_type": "markdown",
   "metadata": {},
   "source": [
    "Compared to what we obtained with TF, the tokens are now scaled by the IDF. For instance, since \"the\" is a common word, its TF-IDF is lower than words like \"sectors\" that appears only once in our corpus.\n",
    "\n",
    "Let's compute TF-IDF for all tokens and documents and visualize the result in a dataframe."
   ]
  },
  {
   "cell_type": "code",
   "execution_count": 21,
   "metadata": {},
   "outputs": [
    {
     "data": {
      "text/html": [
       "<div>\n",
       "<style scoped>\n",
       "    .dataframe tbody tr th:only-of-type {\n",
       "        vertical-align: middle;\n",
       "    }\n",
       "\n",
       "    .dataframe tbody tr th {\n",
       "        vertical-align: top;\n",
       "    }\n",
       "\n",
       "    .dataframe thead th {\n",
       "        text-align: right;\n",
       "    }\n",
       "</style>\n",
       "<table border=\"1\" class=\"dataframe\">\n",
       "  <thead>\n",
       "    <tr style=\"text-align: right;\">\n",
       "      <th></th>\n",
       "      <th>the</th>\n",
       "      <th>impacts</th>\n",
       "      <th>of</th>\n",
       "      <th>behavioural</th>\n",
       "      <th>change</th>\n",
       "      <th>vary</th>\n",
       "      <th>across</th>\n",
       "      <th>sectors</th>\n",
       "      <th>changes</th>\n",
       "      <th>in</th>\n",
       "      <th>travel</th>\n",
       "      <th>behaviour</th>\n",
       "      <th>limit</th>\n",
       "      <th>rising</th>\n",
       "      <th>demand</th>\n",
       "      <th>for</th>\n",
       "      <th>electricity</th>\n",
       "      <th>adopting</th>\n",
       "      <th>a</th>\n",
       "      <th>healthy</th>\n",
       "      <th>diet</th>\n",
       "      <th>reduces</th>\n",
       "      <th>emissions</th>\n",
       "      <th>substantially</th>\n",
       "      <th>without</th>\n",
       "      <th>dependency</th>\n",
       "      <th>europe</th>\n",
       "      <th>on</th>\n",
       "      <th>carbon</th>\n",
       "      <th>removal</th>\n",
       "      <th>technologies</th>\n",
       "      <th>increases</th>\n",
       "      <th>lifestyles</th>\n",
       "      <th>are</th>\n",
       "      <th>crucial</th>\n",
       "      <th>contributing</th>\n",
       "      <th>to</th>\n",
       "      <th>achieving</th>\n",
       "      <th>climate</th>\n",
       "      <th>targets</th>\n",
       "      <th>sooner</th>\n",
       "    </tr>\n",
       "  </thead>\n",
       "  <tbody>\n",
       "    <tr>\n",
       "      <th>d1</th>\n",
       "      <td>0.063853</td>\n",
       "      <td>0.20118</td>\n",
       "      <td>0.114536</td>\n",
       "      <td>0.114536</td>\n",
       "      <td>0.114536</td>\n",
       "      <td>0.20118</td>\n",
       "      <td>0.20118</td>\n",
       "      <td>0.20118</td>\n",
       "      <td>0.000000</td>\n",
       "      <td>0.000000</td>\n",
       "      <td>0.000000</td>\n",
       "      <td>0.000000</td>\n",
       "      <td>0.000000</td>\n",
       "      <td>0.000000</td>\n",
       "      <td>0.000000</td>\n",
       "      <td>0.000000</td>\n",
       "      <td>0.000000</td>\n",
       "      <td>0.00000</td>\n",
       "      <td>0.00000</td>\n",
       "      <td>0.00000</td>\n",
       "      <td>0.00000</td>\n",
       "      <td>0.00000</td>\n",
       "      <td>0.00000</td>\n",
       "      <td>0.00000</td>\n",
       "      <td>0.00000</td>\n",
       "      <td>0.00000</td>\n",
       "      <td>0.00000</td>\n",
       "      <td>0.00000</td>\n",
       "      <td>0.00000</td>\n",
       "      <td>0.00000</td>\n",
       "      <td>0.00000</td>\n",
       "      <td>0.00000</td>\n",
       "      <td>0.000000</td>\n",
       "      <td>0.000000</td>\n",
       "      <td>0.000000</td>\n",
       "      <td>0.000000</td>\n",
       "      <td>0.000000</td>\n",
       "      <td>0.000000</td>\n",
       "      <td>0.000000</td>\n",
       "      <td>0.000000</td>\n",
       "      <td>0.000000</td>\n",
       "    </tr>\n",
       "    <tr>\n",
       "      <th>d2</th>\n",
       "      <td>0.051083</td>\n",
       "      <td>0.00000</td>\n",
       "      <td>0.000000</td>\n",
       "      <td>0.000000</td>\n",
       "      <td>0.000000</td>\n",
       "      <td>0.00000</td>\n",
       "      <td>0.00000</td>\n",
       "      <td>0.00000</td>\n",
       "      <td>0.091629</td>\n",
       "      <td>0.091629</td>\n",
       "      <td>0.160944</td>\n",
       "      <td>0.160944</td>\n",
       "      <td>0.160944</td>\n",
       "      <td>0.160944</td>\n",
       "      <td>0.160944</td>\n",
       "      <td>0.160944</td>\n",
       "      <td>0.160944</td>\n",
       "      <td>0.00000</td>\n",
       "      <td>0.00000</td>\n",
       "      <td>0.00000</td>\n",
       "      <td>0.00000</td>\n",
       "      <td>0.00000</td>\n",
       "      <td>0.00000</td>\n",
       "      <td>0.00000</td>\n",
       "      <td>0.00000</td>\n",
       "      <td>0.00000</td>\n",
       "      <td>0.00000</td>\n",
       "      <td>0.00000</td>\n",
       "      <td>0.00000</td>\n",
       "      <td>0.00000</td>\n",
       "      <td>0.00000</td>\n",
       "      <td>0.00000</td>\n",
       "      <td>0.000000</td>\n",
       "      <td>0.000000</td>\n",
       "      <td>0.000000</td>\n",
       "      <td>0.000000</td>\n",
       "      <td>0.000000</td>\n",
       "      <td>0.000000</td>\n",
       "      <td>0.000000</td>\n",
       "      <td>0.000000</td>\n",
       "      <td>0.000000</td>\n",
       "    </tr>\n",
       "    <tr>\n",
       "      <th>d3</th>\n",
       "      <td>0.000000</td>\n",
       "      <td>0.00000</td>\n",
       "      <td>0.000000</td>\n",
       "      <td>0.000000</td>\n",
       "      <td>0.000000</td>\n",
       "      <td>0.00000</td>\n",
       "      <td>0.00000</td>\n",
       "      <td>0.00000</td>\n",
       "      <td>0.000000</td>\n",
       "      <td>0.000000</td>\n",
       "      <td>0.000000</td>\n",
       "      <td>0.000000</td>\n",
       "      <td>0.000000</td>\n",
       "      <td>0.000000</td>\n",
       "      <td>0.000000</td>\n",
       "      <td>0.000000</td>\n",
       "      <td>0.000000</td>\n",
       "      <td>0.22992</td>\n",
       "      <td>0.22992</td>\n",
       "      <td>0.22992</td>\n",
       "      <td>0.22992</td>\n",
       "      <td>0.22992</td>\n",
       "      <td>0.22992</td>\n",
       "      <td>0.22992</td>\n",
       "      <td>0.00000</td>\n",
       "      <td>0.00000</td>\n",
       "      <td>0.00000</td>\n",
       "      <td>0.00000</td>\n",
       "      <td>0.00000</td>\n",
       "      <td>0.00000</td>\n",
       "      <td>0.00000</td>\n",
       "      <td>0.00000</td>\n",
       "      <td>0.000000</td>\n",
       "      <td>0.000000</td>\n",
       "      <td>0.000000</td>\n",
       "      <td>0.000000</td>\n",
       "      <td>0.000000</td>\n",
       "      <td>0.000000</td>\n",
       "      <td>0.000000</td>\n",
       "      <td>0.000000</td>\n",
       "      <td>0.000000</td>\n",
       "    </tr>\n",
       "    <tr>\n",
       "      <th>d4</th>\n",
       "      <td>0.042569</td>\n",
       "      <td>0.00000</td>\n",
       "      <td>0.076358</td>\n",
       "      <td>0.076358</td>\n",
       "      <td>0.076358</td>\n",
       "      <td>0.00000</td>\n",
       "      <td>0.00000</td>\n",
       "      <td>0.00000</td>\n",
       "      <td>0.000000</td>\n",
       "      <td>0.000000</td>\n",
       "      <td>0.000000</td>\n",
       "      <td>0.000000</td>\n",
       "      <td>0.000000</td>\n",
       "      <td>0.000000</td>\n",
       "      <td>0.000000</td>\n",
       "      <td>0.000000</td>\n",
       "      <td>0.000000</td>\n",
       "      <td>0.00000</td>\n",
       "      <td>0.00000</td>\n",
       "      <td>0.00000</td>\n",
       "      <td>0.00000</td>\n",
       "      <td>0.00000</td>\n",
       "      <td>0.00000</td>\n",
       "      <td>0.00000</td>\n",
       "      <td>0.13412</td>\n",
       "      <td>0.13412</td>\n",
       "      <td>0.13412</td>\n",
       "      <td>0.13412</td>\n",
       "      <td>0.13412</td>\n",
       "      <td>0.13412</td>\n",
       "      <td>0.13412</td>\n",
       "      <td>0.13412</td>\n",
       "      <td>0.000000</td>\n",
       "      <td>0.000000</td>\n",
       "      <td>0.000000</td>\n",
       "      <td>0.000000</td>\n",
       "      <td>0.000000</td>\n",
       "      <td>0.000000</td>\n",
       "      <td>0.000000</td>\n",
       "      <td>0.000000</td>\n",
       "      <td>0.000000</td>\n",
       "    </tr>\n",
       "    <tr>\n",
       "      <th>d5</th>\n",
       "      <td>0.000000</td>\n",
       "      <td>0.00000</td>\n",
       "      <td>0.000000</td>\n",
       "      <td>0.000000</td>\n",
       "      <td>0.000000</td>\n",
       "      <td>0.00000</td>\n",
       "      <td>0.00000</td>\n",
       "      <td>0.00000</td>\n",
       "      <td>0.083299</td>\n",
       "      <td>0.083299</td>\n",
       "      <td>0.000000</td>\n",
       "      <td>0.000000</td>\n",
       "      <td>0.000000</td>\n",
       "      <td>0.000000</td>\n",
       "      <td>0.000000</td>\n",
       "      <td>0.000000</td>\n",
       "      <td>0.000000</td>\n",
       "      <td>0.00000</td>\n",
       "      <td>0.00000</td>\n",
       "      <td>0.00000</td>\n",
       "      <td>0.00000</td>\n",
       "      <td>0.00000</td>\n",
       "      <td>0.00000</td>\n",
       "      <td>0.00000</td>\n",
       "      <td>0.00000</td>\n",
       "      <td>0.00000</td>\n",
       "      <td>0.00000</td>\n",
       "      <td>0.00000</td>\n",
       "      <td>0.00000</td>\n",
       "      <td>0.00000</td>\n",
       "      <td>0.00000</td>\n",
       "      <td>0.00000</td>\n",
       "      <td>0.146313</td>\n",
       "      <td>0.146313</td>\n",
       "      <td>0.146313</td>\n",
       "      <td>0.146313</td>\n",
       "      <td>0.146313</td>\n",
       "      <td>0.146313</td>\n",
       "      <td>0.146313</td>\n",
       "      <td>0.146313</td>\n",
       "      <td>0.146313</td>\n",
       "    </tr>\n",
       "  </tbody>\n",
       "</table>\n",
       "</div>"
      ],
      "text/plain": [
       "         the  impacts        of  behavioural    change     vary   across  \\\n",
       "d1  0.063853  0.20118  0.114536     0.114536  0.114536  0.20118  0.20118   \n",
       "d2  0.051083  0.00000  0.000000     0.000000  0.000000  0.00000  0.00000   \n",
       "d3  0.000000  0.00000  0.000000     0.000000  0.000000  0.00000  0.00000   \n",
       "d4  0.042569  0.00000  0.076358     0.076358  0.076358  0.00000  0.00000   \n",
       "d5  0.000000  0.00000  0.000000     0.000000  0.000000  0.00000  0.00000   \n",
       "\n",
       "    sectors   changes        in    travel  behaviour     limit    rising  \\\n",
       "d1  0.20118  0.000000  0.000000  0.000000   0.000000  0.000000  0.000000   \n",
       "d2  0.00000  0.091629  0.091629  0.160944   0.160944  0.160944  0.160944   \n",
       "d3  0.00000  0.000000  0.000000  0.000000   0.000000  0.000000  0.000000   \n",
       "d4  0.00000  0.000000  0.000000  0.000000   0.000000  0.000000  0.000000   \n",
       "d5  0.00000  0.083299  0.083299  0.000000   0.000000  0.000000  0.000000   \n",
       "\n",
       "      demand       for  electricity  adopting        a  healthy     diet  \\\n",
       "d1  0.000000  0.000000     0.000000   0.00000  0.00000  0.00000  0.00000   \n",
       "d2  0.160944  0.160944     0.160944   0.00000  0.00000  0.00000  0.00000   \n",
       "d3  0.000000  0.000000     0.000000   0.22992  0.22992  0.22992  0.22992   \n",
       "d4  0.000000  0.000000     0.000000   0.00000  0.00000  0.00000  0.00000   \n",
       "d5  0.000000  0.000000     0.000000   0.00000  0.00000  0.00000  0.00000   \n",
       "\n",
       "    reduces  emissions  substantially  without  dependency   europe       on  \\\n",
       "d1  0.00000    0.00000        0.00000  0.00000     0.00000  0.00000  0.00000   \n",
       "d2  0.00000    0.00000        0.00000  0.00000     0.00000  0.00000  0.00000   \n",
       "d3  0.22992    0.22992        0.22992  0.00000     0.00000  0.00000  0.00000   \n",
       "d4  0.00000    0.00000        0.00000  0.13412     0.13412  0.13412  0.13412   \n",
       "d5  0.00000    0.00000        0.00000  0.00000     0.00000  0.00000  0.00000   \n",
       "\n",
       "     carbon  removal  technologies  increases  lifestyles       are   crucial  \\\n",
       "d1  0.00000  0.00000       0.00000    0.00000    0.000000  0.000000  0.000000   \n",
       "d2  0.00000  0.00000       0.00000    0.00000    0.000000  0.000000  0.000000   \n",
       "d3  0.00000  0.00000       0.00000    0.00000    0.000000  0.000000  0.000000   \n",
       "d4  0.13412  0.13412       0.13412    0.13412    0.000000  0.000000  0.000000   \n",
       "d5  0.00000  0.00000       0.00000    0.00000    0.146313  0.146313  0.146313   \n",
       "\n",
       "    contributing        to  achieving   climate   targets    sooner  \n",
       "d1      0.000000  0.000000   0.000000  0.000000  0.000000  0.000000  \n",
       "d2      0.000000  0.000000   0.000000  0.000000  0.000000  0.000000  \n",
       "d3      0.000000  0.000000   0.000000  0.000000  0.000000  0.000000  \n",
       "d4      0.000000  0.000000   0.000000  0.000000  0.000000  0.000000  \n",
       "d5      0.146313  0.146313   0.146313  0.146313  0.146313  0.146313  "
      ]
     },
     "execution_count": 21,
     "metadata": {},
     "output_type": "execute_result"
    }
   ],
   "source": [
    "# TF-IDF for all documents\n",
    "bag_of_words_tfidf = [tfidf(doc, corpus) for doc in corpus]\n",
    "\n",
    "# Visualize in Dataframe\n",
    "pd.DataFrame(bag_of_words_tfidf,\n",
    "    index= ['d1', 'd2', 'd3', 'd4', 'd5']\n",
    "    ).fillna(0)"
   ]
  },
  {
   "cell_type": "markdown",
   "metadata": {
    "id": "Oj3x4fCLyHcA"
   },
   "source": [
    "As before with BOW, the result is not perfect since we could remove stopwords, and use n-gramms and lemmas.\n",
    "\n",
    "Instead of implementing the technique from scracth, we can use the `TfidfVectorizer` class of sklearn ([Documentation](https://scikit-learn.org/stable/modules/generated/sklearn.feature_extraction.text.TfidfVectorizer.html#sklearn.feature_extraction.text.TfidfVectorizer)). Note that the results differ from ours because `TfidfVectorizer` is using a slightly different formula to compute IDF."
   ]
  },
  {
   "cell_type": "code",
   "execution_count": 22,
   "metadata": {
    "colab": {
     "base_uri": "https://localhost:8080/",
     "height": 335
    },
    "id": "IZGWejXoyG3r",
    "outputId": "ee83e51b-ca3c-4486-fe17-4687be522715"
   },
   "outputs": [
    {
     "data": {
      "text/html": [
       "<div>\n",
       "<style scoped>\n",
       "    .dataframe tbody tr th:only-of-type {\n",
       "        vertical-align: middle;\n",
       "    }\n",
       "\n",
       "    .dataframe tbody tr th {\n",
       "        vertical-align: top;\n",
       "    }\n",
       "\n",
       "    .dataframe thead th {\n",
       "        text-align: right;\n",
       "    }\n",
       "</style>\n",
       "<table border=\"1\" class=\"dataframe\">\n",
       "  <thead>\n",
       "    <tr style=\"text-align: right;\">\n",
       "      <th></th>\n",
       "      <th>achieving</th>\n",
       "      <th>across</th>\n",
       "      <th>adopting</th>\n",
       "      <th>are</th>\n",
       "      <th>behaviour</th>\n",
       "      <th>behavioural</th>\n",
       "      <th>carbon</th>\n",
       "      <th>change</th>\n",
       "      <th>changes</th>\n",
       "      <th>climate</th>\n",
       "      <th>contributing</th>\n",
       "      <th>crucial</th>\n",
       "      <th>demand</th>\n",
       "      <th>dependency</th>\n",
       "      <th>diet</th>\n",
       "      <th>electricity</th>\n",
       "      <th>emissions</th>\n",
       "      <th>europe</th>\n",
       "      <th>for</th>\n",
       "      <th>healthy</th>\n",
       "      <th>impacts</th>\n",
       "      <th>in</th>\n",
       "      <th>increases</th>\n",
       "      <th>lifestyles</th>\n",
       "      <th>limit</th>\n",
       "      <th>of</th>\n",
       "      <th>on</th>\n",
       "      <th>reduces</th>\n",
       "      <th>removal</th>\n",
       "      <th>rising</th>\n",
       "      <th>sectors</th>\n",
       "      <th>sooner</th>\n",
       "      <th>substantially</th>\n",
       "      <th>targets</th>\n",
       "      <th>technologies</th>\n",
       "      <th>the</th>\n",
       "      <th>to</th>\n",
       "      <th>travel</th>\n",
       "      <th>vary</th>\n",
       "      <th>without</th>\n",
       "    </tr>\n",
       "  </thead>\n",
       "  <tbody>\n",
       "    <tr>\n",
       "      <th>d1</th>\n",
       "      <td>0.000000</td>\n",
       "      <td>0.395246</td>\n",
       "      <td>0.000000</td>\n",
       "      <td>0.000000</td>\n",
       "      <td>0.000000</td>\n",
       "      <td>0.318882</td>\n",
       "      <td>0.000000</td>\n",
       "      <td>0.318882</td>\n",
       "      <td>0.000000</td>\n",
       "      <td>0.000000</td>\n",
       "      <td>0.000000</td>\n",
       "      <td>0.000000</td>\n",
       "      <td>0.000000</td>\n",
       "      <td>0.000000</td>\n",
       "      <td>0.000000</td>\n",
       "      <td>0.000000</td>\n",
       "      <td>0.000000</td>\n",
       "      <td>0.000000</td>\n",
       "      <td>0.000000</td>\n",
       "      <td>0.000000</td>\n",
       "      <td>0.395246</td>\n",
       "      <td>0.000000</td>\n",
       "      <td>0.000000</td>\n",
       "      <td>0.000000</td>\n",
       "      <td>0.000000</td>\n",
       "      <td>0.318882</td>\n",
       "      <td>0.000000</td>\n",
       "      <td>0.000000</td>\n",
       "      <td>0.000000</td>\n",
       "      <td>0.000000</td>\n",
       "      <td>0.395246</td>\n",
       "      <td>0.000000</td>\n",
       "      <td>0.000000</td>\n",
       "      <td>0.000000</td>\n",
       "      <td>0.000000</td>\n",
       "      <td>0.264701</td>\n",
       "      <td>0.000000</td>\n",
       "      <td>0.000000</td>\n",
       "      <td>0.395246</td>\n",
       "      <td>0.000000</td>\n",
       "    </tr>\n",
       "    <tr>\n",
       "      <th>d2</th>\n",
       "      <td>0.000000</td>\n",
       "      <td>0.000000</td>\n",
       "      <td>0.000000</td>\n",
       "      <td>0.000000</td>\n",
       "      <td>0.338055</td>\n",
       "      <td>0.000000</td>\n",
       "      <td>0.000000</td>\n",
       "      <td>0.000000</td>\n",
       "      <td>0.272741</td>\n",
       "      <td>0.000000</td>\n",
       "      <td>0.000000</td>\n",
       "      <td>0.000000</td>\n",
       "      <td>0.338055</td>\n",
       "      <td>0.000000</td>\n",
       "      <td>0.000000</td>\n",
       "      <td>0.338055</td>\n",
       "      <td>0.000000</td>\n",
       "      <td>0.000000</td>\n",
       "      <td>0.338055</td>\n",
       "      <td>0.000000</td>\n",
       "      <td>0.000000</td>\n",
       "      <td>0.272741</td>\n",
       "      <td>0.000000</td>\n",
       "      <td>0.000000</td>\n",
       "      <td>0.338055</td>\n",
       "      <td>0.000000</td>\n",
       "      <td>0.000000</td>\n",
       "      <td>0.000000</td>\n",
       "      <td>0.000000</td>\n",
       "      <td>0.338055</td>\n",
       "      <td>0.000000</td>\n",
       "      <td>0.000000</td>\n",
       "      <td>0.000000</td>\n",
       "      <td>0.000000</td>\n",
       "      <td>0.000000</td>\n",
       "      <td>0.226399</td>\n",
       "      <td>0.000000</td>\n",
       "      <td>0.338055</td>\n",
       "      <td>0.000000</td>\n",
       "      <td>0.000000</td>\n",
       "    </tr>\n",
       "    <tr>\n",
       "      <th>d3</th>\n",
       "      <td>0.000000</td>\n",
       "      <td>0.000000</td>\n",
       "      <td>0.408248</td>\n",
       "      <td>0.000000</td>\n",
       "      <td>0.000000</td>\n",
       "      <td>0.000000</td>\n",
       "      <td>0.000000</td>\n",
       "      <td>0.000000</td>\n",
       "      <td>0.000000</td>\n",
       "      <td>0.000000</td>\n",
       "      <td>0.000000</td>\n",
       "      <td>0.000000</td>\n",
       "      <td>0.000000</td>\n",
       "      <td>0.000000</td>\n",
       "      <td>0.408248</td>\n",
       "      <td>0.000000</td>\n",
       "      <td>0.408248</td>\n",
       "      <td>0.000000</td>\n",
       "      <td>0.000000</td>\n",
       "      <td>0.408248</td>\n",
       "      <td>0.000000</td>\n",
       "      <td>0.000000</td>\n",
       "      <td>0.000000</td>\n",
       "      <td>0.000000</td>\n",
       "      <td>0.000000</td>\n",
       "      <td>0.000000</td>\n",
       "      <td>0.000000</td>\n",
       "      <td>0.408248</td>\n",
       "      <td>0.000000</td>\n",
       "      <td>0.000000</td>\n",
       "      <td>0.000000</td>\n",
       "      <td>0.000000</td>\n",
       "      <td>0.408248</td>\n",
       "      <td>0.000000</td>\n",
       "      <td>0.000000</td>\n",
       "      <td>0.000000</td>\n",
       "      <td>0.000000</td>\n",
       "      <td>0.000000</td>\n",
       "      <td>0.000000</td>\n",
       "      <td>0.000000</td>\n",
       "    </tr>\n",
       "    <tr>\n",
       "      <th>d4</th>\n",
       "      <td>0.000000</td>\n",
       "      <td>0.000000</td>\n",
       "      <td>0.000000</td>\n",
       "      <td>0.000000</td>\n",
       "      <td>0.000000</td>\n",
       "      <td>0.250161</td>\n",
       "      <td>0.310068</td>\n",
       "      <td>0.250161</td>\n",
       "      <td>0.000000</td>\n",
       "      <td>0.000000</td>\n",
       "      <td>0.000000</td>\n",
       "      <td>0.000000</td>\n",
       "      <td>0.000000</td>\n",
       "      <td>0.310068</td>\n",
       "      <td>0.000000</td>\n",
       "      <td>0.000000</td>\n",
       "      <td>0.000000</td>\n",
       "      <td>0.310068</td>\n",
       "      <td>0.000000</td>\n",
       "      <td>0.000000</td>\n",
       "      <td>0.000000</td>\n",
       "      <td>0.000000</td>\n",
       "      <td>0.310068</td>\n",
       "      <td>0.000000</td>\n",
       "      <td>0.000000</td>\n",
       "      <td>0.250161</td>\n",
       "      <td>0.310068</td>\n",
       "      <td>0.000000</td>\n",
       "      <td>0.310068</td>\n",
       "      <td>0.000000</td>\n",
       "      <td>0.000000</td>\n",
       "      <td>0.000000</td>\n",
       "      <td>0.000000</td>\n",
       "      <td>0.000000</td>\n",
       "      <td>0.310068</td>\n",
       "      <td>0.207656</td>\n",
       "      <td>0.000000</td>\n",
       "      <td>0.000000</td>\n",
       "      <td>0.000000</td>\n",
       "      <td>0.310068</td>\n",
       "    </tr>\n",
       "    <tr>\n",
       "      <th>d5</th>\n",
       "      <td>0.311561</td>\n",
       "      <td>0.000000</td>\n",
       "      <td>0.000000</td>\n",
       "      <td>0.311561</td>\n",
       "      <td>0.000000</td>\n",
       "      <td>0.000000</td>\n",
       "      <td>0.000000</td>\n",
       "      <td>0.000000</td>\n",
       "      <td>0.251365</td>\n",
       "      <td>0.311561</td>\n",
       "      <td>0.311561</td>\n",
       "      <td>0.311561</td>\n",
       "      <td>0.000000</td>\n",
       "      <td>0.000000</td>\n",
       "      <td>0.000000</td>\n",
       "      <td>0.000000</td>\n",
       "      <td>0.000000</td>\n",
       "      <td>0.000000</td>\n",
       "      <td>0.000000</td>\n",
       "      <td>0.000000</td>\n",
       "      <td>0.000000</td>\n",
       "      <td>0.251365</td>\n",
       "      <td>0.000000</td>\n",
       "      <td>0.311561</td>\n",
       "      <td>0.000000</td>\n",
       "      <td>0.000000</td>\n",
       "      <td>0.000000</td>\n",
       "      <td>0.000000</td>\n",
       "      <td>0.000000</td>\n",
       "      <td>0.000000</td>\n",
       "      <td>0.000000</td>\n",
       "      <td>0.311561</td>\n",
       "      <td>0.000000</td>\n",
       "      <td>0.311561</td>\n",
       "      <td>0.000000</td>\n",
       "      <td>0.000000</td>\n",
       "      <td>0.311561</td>\n",
       "      <td>0.000000</td>\n",
       "      <td>0.000000</td>\n",
       "      <td>0.000000</td>\n",
       "    </tr>\n",
       "  </tbody>\n",
       "</table>\n",
       "</div>"
      ],
      "text/plain": [
       "    achieving    across  adopting       are  behaviour  behavioural    carbon  \\\n",
       "d1   0.000000  0.395246  0.000000  0.000000   0.000000     0.318882  0.000000   \n",
       "d2   0.000000  0.000000  0.000000  0.000000   0.338055     0.000000  0.000000   \n",
       "d3   0.000000  0.000000  0.408248  0.000000   0.000000     0.000000  0.000000   \n",
       "d4   0.000000  0.000000  0.000000  0.000000   0.000000     0.250161  0.310068   \n",
       "d5   0.311561  0.000000  0.000000  0.311561   0.000000     0.000000  0.000000   \n",
       "\n",
       "      change   changes   climate  contributing   crucial    demand  \\\n",
       "d1  0.318882  0.000000  0.000000      0.000000  0.000000  0.000000   \n",
       "d2  0.000000  0.272741  0.000000      0.000000  0.000000  0.338055   \n",
       "d3  0.000000  0.000000  0.000000      0.000000  0.000000  0.000000   \n",
       "d4  0.250161  0.000000  0.000000      0.000000  0.000000  0.000000   \n",
       "d5  0.000000  0.251365  0.311561      0.311561  0.311561  0.000000   \n",
       "\n",
       "    dependency      diet  electricity  emissions    europe       for  \\\n",
       "d1    0.000000  0.000000     0.000000   0.000000  0.000000  0.000000   \n",
       "d2    0.000000  0.000000     0.338055   0.000000  0.000000  0.338055   \n",
       "d3    0.000000  0.408248     0.000000   0.408248  0.000000  0.000000   \n",
       "d4    0.310068  0.000000     0.000000   0.000000  0.310068  0.000000   \n",
       "d5    0.000000  0.000000     0.000000   0.000000  0.000000  0.000000   \n",
       "\n",
       "     healthy   impacts        in  increases  lifestyles     limit        of  \\\n",
       "d1  0.000000  0.395246  0.000000   0.000000    0.000000  0.000000  0.318882   \n",
       "d2  0.000000  0.000000  0.272741   0.000000    0.000000  0.338055  0.000000   \n",
       "d3  0.408248  0.000000  0.000000   0.000000    0.000000  0.000000  0.000000   \n",
       "d4  0.000000  0.000000  0.000000   0.310068    0.000000  0.000000  0.250161   \n",
       "d5  0.000000  0.000000  0.251365   0.000000    0.311561  0.000000  0.000000   \n",
       "\n",
       "          on   reduces   removal    rising   sectors    sooner  substantially  \\\n",
       "d1  0.000000  0.000000  0.000000  0.000000  0.395246  0.000000       0.000000   \n",
       "d2  0.000000  0.000000  0.000000  0.338055  0.000000  0.000000       0.000000   \n",
       "d3  0.000000  0.408248  0.000000  0.000000  0.000000  0.000000       0.408248   \n",
       "d4  0.310068  0.000000  0.310068  0.000000  0.000000  0.000000       0.000000   \n",
       "d5  0.000000  0.000000  0.000000  0.000000  0.000000  0.311561       0.000000   \n",
       "\n",
       "     targets  technologies       the        to    travel      vary   without  \n",
       "d1  0.000000      0.000000  0.264701  0.000000  0.000000  0.395246  0.000000  \n",
       "d2  0.000000      0.000000  0.226399  0.000000  0.338055  0.000000  0.000000  \n",
       "d3  0.000000      0.000000  0.000000  0.000000  0.000000  0.000000  0.000000  \n",
       "d4  0.000000      0.310068  0.207656  0.000000  0.000000  0.000000  0.310068  \n",
       "d5  0.311561      0.000000  0.000000  0.311561  0.000000  0.000000  0.000000  "
      ]
     },
     "execution_count": 22,
     "metadata": {},
     "output_type": "execute_result"
    }
   ],
   "source": [
    "# Initialize model\n",
    "vectorizer = TfidfVectorizer()\n",
    "\n",
    "# Learn the vocabulary dictionary and return document-term matrix\n",
    "bag_of_words_tfidf = vectorizer.fit_transform(corpus).todense()\n",
    "\n",
    "# DataFrame\n",
    "bag_of_words_tfidf = pd.DataFrame(bag_of_words_tfidf, \n",
    "                                  columns=vectorizer.get_feature_names_out(),\n",
    "                                  index = ['d1', 'd2', 'd3', 'd4', 'd5'])\n",
    "bag_of_words_tfidf"
   ]
  },
  {
   "cell_type": "markdown",
   "metadata": {
    "id": "YFsl7S2FyxxH"
   },
   "source": [
    "Advantage of TF-IDF:\n",
    "- Smart way of representing documents in corpus. More information is provided.\n",
    "\n",
    "Disadvantages of TF-IDF (same as for BOW):\n",
    "- A lot of zeros (imagine a corpus of 1000 articles) --> consume memory and space\n",
    "- Does not maintain any context information (\"I eat a fish\" vs. \"A fish eats me\")\n",
    "- Half solutions: n-grams, specifiying min_df and max_df (see [documentation](https://scikit-learn.org/stable/modules/generated/sklearn.feature_extraction.text.TfidfVectorizer.html))."
   ]
  },
  {
   "cell_type": "markdown",
   "metadata": {
    "id": "Tkm6F65kUzR_"
   },
   "source": [
    "## Introduction to Gensim and Word Embedding\n",
    "\n",
    "With BOW and TF-IDF, similar sentences/words have a completely different representation. Thus, sentences with different words but same meaning/semantics will be very distant.\n",
    "\n",
    "In the following, we illustrate how we can find out the relations between words in a dataset, compute the similarity between them, or use the vector representation of those words as input for other applications such as text classification or clustering.\n",
    "\n",
    "We will use the [Gensim](https://pypi.org/project/gensim/) library. Gensim stands for \"Generate Similar\". It is a popular open-source natural language processing (NLP) library used for unsupervised topic modeling. A complete tutorial can be found [here](https://www.tutorialspoint.com/gensim/gensim_introduction.htm). "
   ]
  },
  {
   "cell_type": "markdown",
   "metadata": {
    "id": "r-lFcpJJPXAq"
   },
   "source": [
    "### Background\n",
    "\n",
    "Word embedding approaches use deep learning and neural network-based techniques to convert words into corresponding vectors so that semantically similar vectors are close to each other in an N-dimensional space, where N refers to the dimensions of the vectors. The underlying assumption is that two words sharing similar contexts also share a similar meaning and consequently a similar vector representation from the model.\n",
    "\n",
    "Two word embedding methods:\n",
    "- [Word2vec](https://en.wikipedia.org/wiki/Word2vec), by Google\n",
    "- [GloVe](https://en.wikipedia.org/wiki/GloVe) (Global vectors for Word Representation), by Stanford\n",
    "\n",
    "Word2vec gives astonishing results. Its ability to maintain a semantic relationship is reflected in a classic example where if you have a vector for the word \"King\" and you remove the vector represented by the word \"Man\" from the \"King\" and add \"Woman\", you get a vector that is close to the vector \"Queen\": \n",
    "- King - Man + Woman = Queen\n",
    "\n",
    "Second example: \"dog\", \"puppy\" and \"pup\" are often used in similar situations, with similar surrounding words like \"good\", \"fluffy\" or \"cute\", and according to Word2vec they will therefore share a similar vector representation.\n",
    "\n",
    "In real applications, Word2vec models are created from billions of documents. For example, [Google's Word2Vec model](https://code.google.com/archive/p/word2vec/) is formed from 3 million words and phrases.\n",
    "\n",
    "GloVe is an extension of Word2vec. More information [here](https://nlp.stanford.edu/projects/glove/).\n",
    "\n",
    "Recently, more advanced models have been developed, such as [BERT](https://en.wikipedia.org/wiki/BERT_(language_model)) - Bidirectional Encoder Representations from Transformers-  and [GPT-3](https://en.wikipedia.org/wiki/GPT-3) - Generative Pre-trained Transformer 3. While Word2vec models represent tokens (word) with a single vector, BERT generates different output vectors for a same word when used in different context. You can find further readings on the topic at the end of this notebook."
   ]
  },
  {
   "cell_type": "markdown",
   "metadata": {},
   "source": [
    "### Implementing Word2vec with Gensim\n",
    "\n",
    "We will implement Word2vec using the Gensim library. We are going to use a corpus of text extracted from Wikipedia by web scrapping. We first define a function to retrieve texts from a Wikipedia url:"
   ]
  },
  {
   "cell_type": "code",
   "execution_count": 23,
   "metadata": {
    "colab": {
     "base_uri": "https://localhost:8080/",
     "height": 1000
    },
    "id": "4ONCENA5RHYX",
    "outputId": "66edf18a-3dba-4b13-a1fa-aafce604fb49"
   },
   "outputs": [],
   "source": [
    "# Get texts from Wikipedia\n",
    "def get_text(url):\n",
    "    # Retrieve data\n",
    "    scrapped_data = urllib.request.urlopen(url)\n",
    "    article = scrapped_data.read()\n",
    "    # Parse data: # The text is contained in the HTML tag 'p'\n",
    "    parsed_article = bs.BeautifulSoup(article,'lxml')\n",
    "    paragraphs = parsed_article.find_all('p')  \n",
    "    # Create a string with all the paragraphs\n",
    "    article_text = \"\"\n",
    "    for p in paragraphs:\n",
    "        article_text += p.text\n",
    "    return article_text"
   ]
  },
  {
   "cell_type": "markdown",
   "metadata": {},
   "source": [
    "Let's get the Wikipedia articles on [Machine Learning](https://en.wikipedia.org/wiki/Machine_learning) and on [Artificial Intelligence](https://en.wikipedia.org/wiki/Artificial_intelligence). This will be our corpus of documents."
   ]
  },
  {
   "cell_type": "code",
   "execution_count": 24,
   "metadata": {},
   "outputs": [
    {
     "name": "stdout",
     "output_type": "stream",
     "text": [
      "Machine learning (ML) is a field devoted to understanding and building methods that let machines \"learn\" – that is, methods that leverage data to improve computer performance on some set of tasks.[1] It is seen as a broad subfield of artificial intelligence[2]. \n",
      "Machine learning algorithms build a model based on sample data, known as training data, in order to make predictions or decisions without being explicitly programmed to do so.[3] Machine learning algorithms are used in a wide variety of applications, such as in medicine, email filtering, speech recognition, agriculture, and computer vision, where it is difficult or unfeasible to develop conventional algorithms to perform the needed tasks.\n",
      "\n",
      "Artificial intelligence (AI) is intelligence—perceiving, synthesizing, and inferring information—demonstrated by machines, as opposed to intelligence displayed by non-human animals or by humans. Example tasks in which this is done include speech recognition, computer vision, translation between (natural) languages, as well as other mappings of inputs.\n",
      "AI applications include advanced web search engines (e.g., Google Search), recommendation systems (used by YouTube, Amazon, and Netflix), understanding human speech (such as Siri and Alexa), self-driving cars (e.g., Waymo), generative or creative tools (ChatGPT and AI art), automated decision-making, and competing at the highest level in strategic game systems (such as chess and Go).\n"
     ]
    }
   ],
   "source": [
    "# Get articles\n",
    "machine_learning = get_text(\"https://en.wikipedia.org/wiki/Machine_learning\")\n",
    "ai = get_text(\"https://en.wikipedia.org/wiki/Artificial_intelligence\")\n",
    "\n",
    "print(machine_learning[:705])\n",
    "print(ai[:741])\n",
    "\n",
    "# Group texts in list\n",
    "texts = [machine_learning, ai]"
   ]
  },
  {
   "cell_type": "markdown",
   "metadata": {},
   "source": [
    "Next, we preprocess out texts. We create a tokenizer function to lemmatize each token and remove stopwords."
   ]
  },
  {
   "cell_type": "code",
   "execution_count": 25,
   "metadata": {
    "id": "56Z0fduhRMb5"
   },
   "outputs": [],
   "source": [
    "# Create tokenizer function for preprocessing\n",
    "def spacy_tokenizer(text):\n",
    "\n",
    "    # Define stopwords, punctuation, and numbers\n",
    "    stop_words = spacy.lang.en.stop_words.STOP_WORDS\n",
    "    punctuations = string.punctuation +'–' + '—'\n",
    "    numbers = \"0123456789\"\n",
    "\n",
    "    # Create spacy object\n",
    "    mytokens = sp(text)\n",
    "\n",
    "    # Lemmatize each token and convert each token into lowercase\n",
    "    mytokens = ([ word.lemma_.lower().strip() for word in mytokens ])\n",
    "\n",
    "    # Remove stop words and punctuation\n",
    "    mytokens = ([ word for word in mytokens \n",
    "                 if word not in stop_words and word not in punctuations ])\n",
    "\n",
    "    # Remove sufix like \".[1\" in \"experience.[1\"\n",
    "    mytokens_2 = []\n",
    "    for word in mytokens:\n",
    "        for char in word:\n",
    "            if (char in punctuations) or (char in numbers):\n",
    "                word = word.replace(char, \"\")\n",
    "        if word != \"\":\n",
    "            mytokens_2.append(word)\n",
    "\n",
    "    # Return preprocessed list of tokens\n",
    "    return mytokens_2"
   ]
  },
  {
   "cell_type": "markdown",
   "metadata": {},
   "source": [
    "Let's apply our function to tokenize our corpus of documents:"
   ]
  },
  {
   "cell_type": "code",
   "execution_count": 26,
   "metadata": {},
   "outputs": [
    {
     "name": "stdout",
     "output_type": "stream",
     "text": [
      "['machine', 'learning', 'ml', 'field', 'devote', 'understanding', 'building', 'method', 'let', 'machine', 'learn', 'method', 'leverage', 'datum', 'improve', 'computer', 'performance', 'set', 'tasks', 'broad']\n",
      "['artificial', 'intelligence', 'ai', 'intelligence', 'perceive', 'synthesize', 'infer', 'information', 'demonstrate', 'machine', 'oppose', 'intelligence', 'display', 'non', 'human', 'animal', 'human', 'example', 'task', 'include']\n"
     ]
    }
   ],
   "source": [
    "# Tokenize texts\n",
    "processed_texts = [spacy_tokenizer(text) for text in texts]\n",
    "\n",
    "for processed_text in processed_texts:\n",
    "    print(processed_text[:20])"
   ]
  },
  {
   "cell_type": "markdown",
   "metadata": {},
   "source": [
    "Now that our text is preprocessed, we can train a Word2vec model. We use the `Word2Vec` module of Gensim ([Documentation](https://radimrehurek.com/gensim/models/word2vec.html)). As input, we provide the processed texts, i.e., a list of lists of tokens. In addition, we use as parameters:\n",
    "- `min_count`: minimum number of occurence of single word in corpus to be taken into account\n",
    "- `vector_size`: dimension of the vectors representing the tokens\n",
    "\n",
    "Once the model is trained, we can access to the mapping between words and embeddings with the method `.wv`"
   ]
  },
  {
   "cell_type": "code",
   "execution_count": 27,
   "metadata": {
    "colab": {
     "base_uri": "https://localhost:8080/"
    },
    "id": "MYbGv4LbRRlZ",
    "outputId": "c3316ba2-e5d6-4226-8d53-8343062eb425"
   },
   "outputs": [
    {
     "name": "stdout",
     "output_type": "stream",
     "text": [
      "{'learning': 0, 'machine': 1, 'ai': 2, 'use': 3, 'learn': 4, 'datum': 5, 'algorithm': 6, 'intelligence': 7, 'model': 8, 'artificial': 9, 'system': 10, 'problem': 11, 'human': 12, 'example': 13, 'network': 14, 'include': 15, 'training': 16, 'field': 17, 'computer': 18, 'input': 19, 'method': 20, 'neural': 21, 'set': 22, 'research': 23, 'knowledge': 24, 'approach': 25, 'program': 26, 'decision': 27, 'task': 28, 'logic': 29, 'base': 30, 'search': 31, 'know': 32, 'application': 33, 'train': 34, 'feature': 35, 'represent': 36, 'technique': 37, 'classification': 38, 'theory': 39, 'solve': 40, 'goal': 41, 'process': 42, 'term': 43, 'researcher': 44, 'function': 45, 'bias': 46, 'develop': 47, 'symbolic': 48, 'neuron': 49, 'rule': 50, 'time': 51, 'perform': 52, 'find': 53, 'optimization': 54, 'specific': 55, 'general': 56, 'consider': 57, 'layer': 58, 'increase': 59, 'representation': 60, 'information': 61, 'deep': 62, 'tool': 63, 'mathematical': 64, 'reasoning': 65, 'form': 66, 'output': 67, 'number': 68, 'large': 69, 'new': 70, 'lead': 71, 'language': 72, 'pattern': 73, 'signal': 74, 'mind': 75, 'label': 76, 'analysis': 77, 'recognition': 78, 'prediction': 79, 'performance': 80, 'require': 81, 'improve': 82, 'work': 83, 'classifier': 84, 'statistical': 85, 'high': 86, 'intelligent': 87, 'data': 88, 'create': 89, 'ability': 90, 's': 91, 'image': 92, 'unsupervised': 93, 'relate': 94, 'like': 95, 'result': 96, 'regression': 97, 'computing': 98, 'risk': 99, 'agent': 100, 'class': 101, 'argue': 102, 'test': 103, 'tree': 104, 'issue': 105, 'define': 106, 'need': 107, 'people': 108, 'step': 109, 'question': 110, 'vision': 111, 'patent': 112, 'long': 113, 'reduce': 114, 'attempt': 115, 'brain': 116, 'object': 117, 'behavior': 118, 'world': 119, 'level': 120, 'predict': 121, 'non': 122, 'allow': 123, 'study': 124, 'space': 125, 'identify': 126, 'typically': 127, 'area': 128, 'statistic': 129, 'particular': 130, 'software': 131, 'apply': 132, 'difficult': 133, 'point': 134, 'mining': 135, 'processing': 136, 'classify': 137, 'accuracy': 138, 'solution': 139, 'programming': 140, 'different': 141, 'supervised': 142, 'simulate': 143, 'fact': 144, 'provide': 145, 'real': 146, 'self': 147, 'future': 148, 'user': 149, 'category': 150, 'genetic': 151, 'detection': 152, 'experience': 153, 'speech': 154, 'describe': 155, 'computational': 156, 'way': 157, 'reinforcement': 158, 'variable': 159, 'begin': 160, 'sub': 161, 'recognize': 162, 'cluster': 163, 'observation': 164, 'measure': 165, 'design': 166, 'environment': 167, 'dimensional': 168, 'widely': 169, 'game': 170, 'popular': 171, 'definition': 172, 'dictionary': 173, 'exist': 174, 'technology': 175, 'job': 176, 'relationship': 177, 'order': 178, 'supervise': 179, 'inspire': 180, 'discovery': 181, 'successful': 182, 'change': 183, 'focus': 184, 'science': 185, 'bayesian': 186, 'fit': 187, 'medical': 188, 'linear': 189, 'target': 190, 'fail': 191, 'k': 192, 'google': 193, 'natural': 194, 'view': 195, 'build': 196, 'sample': 197, 'state': 198, 'common': 199, 'formal': 200, 'come': 201, 'inference': 202, 'logical': 203, 'instance': 204, 'probabilistic': 205, 'domain': 206, 'algorithmic': 207, 'eg': 208, 'simple': 209, 'produce': 210, 'concern': 211, 'strategy': 212, 'report': 213, 'compute': 214, 'value': 215, 'understand': 216, 'perception': 217, 'likely': 218, 'answer': 219, 'especially': 220, 'potential': 221, 'care': 222, 'inductive': 223, 'ethical': 224, 'involve': 225, 'true': 226, 'follow': 227, 'spam': 228, 'situation': 229, 'connection': 230, 'achieve': 231, 'probability': 232, 'introduce': 233, 'd': 234, 'explain': 235, 'recommendation': 236, 'similar': 237, 'contain': 238, 'hypothesis': 239, 'anomaly': 240, 'complexity': 241, 'good': 242, 'text': 243, 'able': 244, 'networks': 245, 'robot': 246, 'generalization': 247, 'type': 248, 'express': 249, 'sparse': 250, 'fiction': 251, 'property': 252, 'concept': 253, 'content': 254, 'emerge': 255, 'receive': 256, 'match': 257, 'determine': 258, 'hardware': 259, 'discover': 260, 'estimate': 261, 'success': 262, 'rate': 263, 'previously': 264, 'vector': 265, 'sufficiently': 266, 'continue': 267, 'action': 268, 'drive': 269, 'distribution': 270, 'guess': 271, 'variety': 272, 'employ': 273, 'assumption': 274, 'microsoft': 275, 'addition': 276, 'previous': 277, 'heuristic': 278, 'analyze': 279, 'ontology': 280, 'negative': 281, 'robotic': 282, 'commonsense': 283, 'modern': 284, 'learner': 285, 'early': 286, 'generally': 287, 'event': 288, 'black': 289, 'advanced': 290, 'publish': 291, 'random': 292, 'philosophy': 293, 'capable': 294, 'component': 295, 'certain': 296, 'thing': 297, 'device': 298, 'association': 299, 'low': 300, 'possible': 301, 'philosopher': 302, 'idea': 303, 'founder': 304, 'year': 305, 'us': 306, 'weight': 307, 'help': 308, 'mean': 309, 'expert': 310, 'related': 311, 'database': 312, 'multi': 313, 'assign': 314, 'theoretical': 315, 'similarity': 316, 'unknown': 317, 'directly': 318, 'manifold': 319, 'kernel': 320, 'matrix': 321, 'digital': 322, 'reason': 323, 'structure': 324, 'right': 325, 'ethic': 326, 'interaction': 327, 'dynamic': 328, 'assume': 329, 'emotion': 330, 'individual': 331, 'soft': 332, 'easy': 333, 'perceptron': 334, 'refer': 335, 'feel': 336, 'dimensionality': 337, 'scientist': 338, 'netflix': 339, 'calculus': 340, 'biological': 341, 'generate': 342, 'discipline': 343, 'engineering': 344, 'svm': 345, 'accord': 346, 'propose': 347, 'health': 348, 'machines': 349, 'think': 350, 'russell': 351, 'detect': 352, 'symbol': 353, 'market': 354, 'outlier': 355, 'animal': 356, 'turing': 357, 'prove': 358, 'loss': 359, 'project': 360, 'physical': 361, 'tend': 362, 'pre': 363, 'evaluate': 364, 'context': 365, 'item': 366, 'book': 367, 'complex': 368, 'normal': 369, 'generation': 370, 'industry': 371, 't': 372, 'positive': 373, 'suggest': 374, 'current': 375, 'subset': 376, 'reach': 377, 'appear': 378, 'planning': 379, 'draw': 380, 'far': 381, 'email': 382, 'n': 383, 'write': 384, 'company': 385, 'interest': 386, 'internet': 387, 'agree': 388, 'gradient': 389, 'champion': 390, 'diagnosis': 391, 'characteristic': 392, 'contrast': 393, 'e': 394, 'continuous': 395, 'web': 396, 'traffic': 397, 'caa': 398, 'o': 399, 'percent': 400, 'look': 401, 'effective': 402, 'minsky': 403, 'fully': 404, 'translation': 405, 'belong': 406, 'edge': 407, 'government': 408, 'character': 409, 'hard': 410, 'overfitte': 411, 'dataset': 412, 'scientific': 413, 'multiple': 414, 'rely': 415, 'memory': 416, 'observed': 417, 'objective': 418, 'support': 419, 'marvin': 420, 'noise': 421, 'service': 422, 'rare': 423, 'raise': 424, 'philosophical': 425, 'case': 426, 'evolutionary': 427, 'ibm': 428, 'seek': 429, 'connectionist': 430, 'academic': 431, 'collection': 432, 'useful': 433, 'smart': 434, 'correct': 435, 'algorithms': 436, 'cause': 437, 'hope': 438, 'problems': 439, 'key': 440, 'polynomial': 441, 'kind': 442, 'start': 443, 'narrow': 444, 'white': 445, 'basis': 446, 'predictive': 447, 'member': 448, 'statement': 449, 'nature': 450, 'fuzzy': 451, 'source': 452, 'central': 453, 'total': 454, 'broad': 455, 'refine': 456, 'depend': 457, 'choice': 458, 'implementation': 459, 'embed': 460, 'adversarial': 461, 'commercial': 462, 'demonstrate': 463, 'file': 464, 'range': 465, 'closely': 466, 'size': 467, 'instead': 468, 'remain': 469, 'equity': 470, 'small': 471, 'minimize': 472, 'st': 473, 'paradigm': 474, 'art': 475, 'antiquity': 476, 'principle': 477, 'word': 478, 'dominate': 479, 'principal': 480, 'public': 481, 'reduction': 482, 'access': 483, 'response': 484, 'separate': 485, 'play': 486, 'resource': 487, 'personal': 488, 'path': 489, 'swarm': 490, 'computation': 491, 'policy': 492, 'adopt': 493, 'reward': 494, 'control': 495, 'funding': 496, 'error': 497, 'law': 498, 'filtering': 499, 'day': 500, 'century': 501, 'highly': 502, 'person': 503, 'short': 504, 'machinery': 505, 'straightforward': 506, 'uncertain': 507, 'fire': 508, 'branch': 509, 'accurate': 510, 'history': 511, 'life': 512, 'modeling': 513, 'middle': 514, 'moravec': 515, 'fund': 516, 'active': 517, 'cognitive': 518, 'derive': 519, 'unseen': 520, 'aggregate': 521, 'scale': 522, 'prevent': 523, 'difference': 524, 'paper': 525, 'occurrence': 526, 'enable': 527, 'majority': 528, 'near': 529, 'alan': 530, 'default': 531, 'slow': 532, 'markov': 533, 'main': 534, 'improvement': 535, 'late': 536, 'obtain': 537, 'culture': 538, 'retrieval': 539, 'simulation': 540, 'line': 541, 'consequence': 542, 'strong': 543, 'later': 544, 'rarely': 545, 'activation': 546, 'external': 547, 'autonomous': 548, 'automate': 549, 'fast': 550, 'dominant': 551, 'practical': 552, 'fold': 553, 'fall': 554, 'logics': 555, 'decrease': 556, 'hypothetical': 557, 'thinking': 558, 'divide': 559, 'video': 560, 'feedback': 561, 'breadth': 562, 'consist': 563, 'original': 564, 'rnn': 565, 'outcome': 566, 'associate': 567, 'density': 568, 'limited': 569, 'relation': 570, 'visual': 571, 'face': 572, 'clustering': 573, 'grow': 574, 'truth': 575, 'necessarily': 576, 'significantly': 577, 'p': 578, 'deal': 579, 'store': 580, 'toc': 581, 'operate': 582, 'complete': 583, 'superintelligent': 584, 'lack': 585, 'numerous': 586, 'expect': 587, 'recently': 588, 'economist': 589, 'neurons': 590, 'critical': 591, 'professional': 592, 'norvig': 593, 'wide': 594, 'engine': 595, 'tell': 596, 'explicitly': 597, 'prize': 598, 'ture': 599, 'plan': 600, 'challenge': 601, 'conclude': 602, 'cloud': 603, 'team': 604, 'defendant': 605, 'available': 606, 'sensor': 607, 'emulate': 608, 'ensure': 609, 'collect': 610, 'car': 611, 'billion': 612, 'simon': 613, 'false': 614, 'superintelligence': 615, 'accordance': 616, 'sense': 617, 'deliver': 618, 'designer': 619, 'place': 620, 'act': 621, 'xai': 622, 'explainable': 623, 'subjective': 624, 'deduction': 625, 'powerful': 626, 'business': 627, 'position': 628, 'remove': 629, 'critic': 630, 'resolve': 631, 'past': 632, 'discussion': 633, 'assess': 634, 'present': 635, 'pick': 636, 'commonly': 637, 'group': 638, 'suffer': 639, 'frequently': 640, 'necessary': 641, 'limit': 642, 'rise': 643, 'regulation': 644, 'privacy': 645, 'chess': 646, 'try': 647, 'winter': 648, 'amazon': 649, 'argument': 650, 'friendly': 651, 'asimov': 652, 'morality': 653, 'making': 654, 'background': 655, 'economic': 656, 'period': 657, 'population': 658, 'social': 659, 'usage': 660, 'understanding': 661, 'possibly': 662, 'representative': 663, 'send': 664, 'stephen': 665, 'imitate': 666, 'infer': 667, 'effect': 668, 'found': 669, 'additional': 670, 'gain': 671, 'sequence': 672, 'ann': 673, 'acyclic': 674, 'legal': 675, 'benefit': 676, 'humanity': 677, 'facebook': 678, 'display': 679, 'intellectual': 680, 'explore': 681, 'ml': 682, 'direct': 683, 'transfer': 684, 'belief': 685, 'transaction': 686, 'product': 687, 'digit': 688, 'map': 689, 'subfield': 690, 'customer': 691, 'respect': 692, 'stuart': 693, 'journal': 694, 'conference': 695, 'rights': 696, 'red': 697, 'peter': 698, 'regulate': 699, 'series': 700, 'searle': 701, 'believe': 702, 'body': 703, 'landscape': 704, 'blind': 705, 'computationalism': 706, 'hawking': 707, 'institute': 708, 'supply': 709, 'worth': 710, 'surveillance': 711, 'kdd': 712, 'sufficient': 713, 'misinformation': 714, 'country': 715, 'easily': 716, 'correctly': 717, 'major': 718, 'unfair': 719, 'compas': 720, 'eliminate': 721, 'shut': 722, 'race': 723, 'acquire': 724, 'actual': 725, 'tasks': 726, 'examples': 727, 'usually': 728, 'collar': 729, 'topic': 730, 'development': 731, 'basic': 732, 'characterize': 733, 'possess': 734, 'surpass': 735, 'prominent': 736, 'conventional': 737, 'singularity': 738, 'musk': 739, 'transhumanism': 740, 'end': 741, 'agriculture': 742, 'arise': 743, 'automation': 744, 'consciousness': 745, 'finding': 746, 'exploratory': 747, 'recurrent': 748, 'coin': 749, 'organization': 750, 'mole': 751, 'convolutional': 752, 'inappropriate': 753, 'predictions': 754, 'important': 755, 'relevant': 756, 'security': 757, 'professor': 758, 'samuel': 759, 'feedforward': 760, 'city': 761, 'vast': 762, 'competitive': 763, 'reinvention': 764, 'generalized': 765, 'descent': 766, 'statistics': 767, 'teach': 768, 'arthur': 769, 'detector': 770, 'programmer': 771, 'jeopardy': 772, 'offer': 773, 'apple': 774, 'gpt': 775, 'thousand': 776, 'mainstream': 777, 'letter': 778, 'blue': 779, 'beat': 780, 'vanish': 781, 'decisions': 782, 'experimental': 783, 'propagate': 784, 'equip': 785, 'superhuman': 786, 'teacher': 787, 'replace': 788, 'deepmind': 789, 'attain': 790, 'sonar': 791, 'do': 792, 'intersection': 793, 'spectrum': 794, 'provably': 795, 'backpropagation': 796, 'morning': 797, 'outside': 798, 'sun': 799, 'valuable': 800, 'mccarthy': 801, 'connectionism': 802, 'devise': 803, 'rumelhart': 804, 'hinton': 805, 'conscious': 806, 'controller': 807, 'mistake': 808, 'handle': 809, 'mimic': 810, 'shift': 811, 'away': 812, 'impossible': 813, 'degree': 814, 'neats': 815, 'ant': 816, 'diamond': 817, 'neighbor': 818, 'invention': 819, 'pigeon': 820, 'disclose': 821, 'hand': 822, 'sector': 823, 'wire': 824, 'execute': 825, 'observe': 826, 'vote': 827, 'matter': 828, 'exactly': 829, 'activate': 830, 'probably': 831, 'color': 832, 'acquisition': 833, 'specie': 834, 'extremely': 835, 'scalability': 836, 'family': 837, 'favor': 838, 'john': 839, 'naive': 840, 'technological': 841, 'concerned': 842, 'patterns': 843, 'decade': 844, 'firm': 845, 'gofai': 846, 'rating': 847, 'million': 848, 'win': 849, 'big': 850, 'joint': 851, 'hold': 852, 'proponent': 853, 'phone': 854, 'mobile': 855, 'efficiency': 856, 'server': 857, 'centralized': 858, 'decentralize': 859, 'co': 860, 'diagnostic': 861, 'adapt': 862, 'painting': 863, 'reportedly': 864, 'possibility': 865, 'criminal': 866, 'biases': 867, 'unconscious': 868, 'sensitivity': 869, 'burden': 870, 'dollar': 871, 'watson': 872, 'healthcare': 873, 'evaluation': 874, 'wrong': 875, 'choose': 876, 'aid': 877, 'reveal': 878, 'distribute': 879, 'federated': 880, 'adjust': 881, 'logistic': 882, 'single': 883, 'associated': 884, 'implicitly': 885, 'trick': 886, 'mark': 887, 'svms': 888, 'leave': 889, 'conclusion': 890, 'second': 891, 'james': 892, 'sound': 893, 'light': 894, 'hidden': 895, 'manyika': 896, 'threshold': 897, 'trendline': 898, 'graphical': 899, 'integrate': 900, 'disease': 901, 'notably': 902, 'society': 903, 'impact': 904, 'biased': 905, 'newell': 906, 'engineer': 907, 'herbert': 908, 'unobserved': 909, 'covariance': 910, 'gaussian': 911, 'influence': 912, 'uncertainty': 913, 'protein': 914, 'efficient': 915, 'symptom': 916, 'gorilla': 917, 'systems': 918, 'chatbot': 919, 'oppose': 920, 'material': 921, 'adjustable': 922, 'electrically': 923, 'neuromorphic': 924, 'openai': 925, 'displace': 926, 'advance': 927, 'patient': 928, 'stand': 929, 'united': 930, 'karel': 931, 'čapek': 932, 'heavily': 933, 'responsible': 934, 'applicant': 935, 'synapse': 936, 'frankenstein': 937, 'quickly': 938, 'run': 939, 'existential': 940, 'storytelle': 941, 'precisely': 942, 'goals': 943, 'mary': 944, 'shelley': 945, 'wave': 946, 'phenomenon': 947, 'compete': 948, 'alexa': 949, 'siri': 950, 'youtube': 951, 'mapping': 952, 'synthesize': 953, 'approximate': 954, 'hiring': 955, 'george': 956, 'commission': 957, 'exhibit': 958, 'pixel': 959, 'unlike': 960, 'brown': 961, 'picture': 962, 'bad': 963, 'explanation': 964, 'power': 965, 'mental': 966, 'box': 967, 'responsibility': 968, 'cybernetic': 969, 'fei': 970, 'increasingly': 971, 'fairness': 972, 'racist': 973, 'nonlinear': 974, 'manipulation': 975, 'andor': 976, 'similarly': 977, 'rur': 978, 'pose': 979, 'roc': 980, 'denominator': 981, 'numerator': 982, 'ratio': 983, 'discuss': 984, 'party': 985, 'investigator': 986, 'respectively': 987, 'validation': 988, 'cross': 989, 'holdout': 990, 'transparency': 991, 'strength': 992, 'compare': 993, 'michael': 994, 'imprecise': 995, 'unlabele': 996, 'completely': 997, 'semi': 998, 'graph': 999, 'internal': 1000, 'criterion': 1001, 'capability': 1002, 'puzzle': 1003, 'incomplete': 1004, 'encompass': 1005, 'estimation': 1006, 'presence': 1007, 'commonality': 1008, 'economics': 1009, 'explosion': 1010, 'conjunction': 1011, 'sets': 1012, 'verification': 1013, 'trait': 1014, 'pca': 1015, 'survey': 1016, 'dimension': 1017, 'incorporate': 1018, 'processes': 1019, 'vehicle': 1020, 'exact': 1021, 'mdp': 1022, 'beneficial': 1023, 'pursue': 1024, 'agi': 1025, 'operation': 1026, 'institution': 1027, 'notion': 1028, 'lanier': 1029, 'exponentially': 1030, 'intelligently': 1031, 'connect': 1032, 'facial': 1033, 'having': 1034, 'virtual': 1035, 'assistant': 1036, 'actually': 1037, 'sentiment': 1038, 'classifie': 1039, 'extend': 1040, 'physics': 1041, 'root': 1042, 'affect': 1043, 'analytical': 1044, 'hans': 1045, 'overall': 1046, 'architecture': 1047, 'master': 1048, 'affective': 1049, 'approximately': 1050, 'numerical': 1051, 'finite': 1052, 'interpret': 1053, 'average': 1054, 'optimal': 1055, 'array': 1056, 'description': 1057, 'desire': 1058, 'enormous': 1059, 'subject': 1060, 'fundamental': 1061, 'underlie': 1062, 'stream': 1063, 'nlp': 1064, 'translate': 1065, 'bound': 1066, 'yield': 1067, 'attribute': 1068, 'benchmark': 1069, 'hungry': 1070, 'onion': 1071, 'g': 1072, 'r': 1073, 'sale': 1074, 'dick': 1075, 'collectively': 1076, 'manipulate': 1077, 'theorem': 1078, 'speak': 1079, 'likelihood': 1080, 'establish': 1081, 'appropriately': 1082, 'eventually': 1083, 'interesting': 1084, 'intrusion': 1085, 'deviation': 1086, 'mathrm': 1087, 'potato': 1088, 'lie': 1089, 'buy': 1090, 'push': 1091, 'unit': 1092, 'connected': 1093, 'induction': 1094, 'prolog': 1095, 'setting': 1096, 'foundation': 1097, 'lay': 1098, 'shapiro': 1099, 'prominence': 1100, 'particularly': 1101, 'functional': 1102, 'algebra': 1103, 'ilp': 1104, 'combine': 1105, 'substantially': 1106, 'identification': 1107, 'difficulty': 1108, 'patch': 1109, 'classic': 1110, 'aim': 1111, 'initial': 1112, 'behavioral': 1113, 'a': 1114, 'routine': 1115, 'update': 1116, 'cognition': 1117, 'verifiable': 1118, 'feeling': 1119, 'advice': 1120, 'crossbar': 1121, 'ongoing': 1122, 'meta': 1123, 'regularization': 1124, 'david': 1125, 'configuration': 1126, 'survive': 1127, 'mathematically': 1128, 'sparsely': 1129, 'british': 1130, 'explicit': 1131, 'alternative': 1132, 'revive': 1133, 'japan': 1134, 'fifth': 1135, 'brooks': 1136, 'restore': 1137, 'lisp': 1138, 'hierarchy': 1139, 'zero': 1140, 'rodney': 1141, 'constraint': 1142, 'textbook': 1143}\n"
     ]
    }
   ],
   "source": [
    "# Word embedding \n",
    "word2vec = Word2Vec(processed_texts, min_count=2, vector_size=100)\n",
    "\n",
    "# Vocabulary\n",
    "vocab = word2vec.wv.key_to_index\n",
    "print(vocab)"
   ]
  },
  {
   "cell_type": "markdown",
   "metadata": {},
   "source": [
    "Each token (word) is represented by a vector (array) of size 100:"
   ]
  },
  {
   "cell_type": "code",
   "execution_count": 28,
   "metadata": {
    "colab": {
     "base_uri": "https://localhost:8080/"
    },
    "id": "ynLxnGryTXKc",
    "outputId": "403fd91d-f8c1-4d37-e849-075110903009"
   },
   "outputs": [
    {
     "data": {
      "text/plain": [
       "array([-0.01124301,  0.02716064,  0.02493959,  0.0161529 , -0.00151713,\n",
       "       -0.05164349,  0.03738473,  0.07211006, -0.03325435, -0.01470454,\n",
       "       -0.018749  , -0.04682782, -0.00137586,  0.00723688,  0.00967483,\n",
       "       -0.0169712 ,  0.0061463 , -0.0292648 , -0.02087592, -0.08004323,\n",
       "        0.02208753,  0.02545436,  0.02187319, -0.02586406, -0.02569048,\n",
       "        0.00487537, -0.03035493, -0.0346113 , -0.03428375,  0.01071933,\n",
       "        0.03900285,  0.00765329,  0.03339196, -0.02608952, -0.01705804,\n",
       "        0.05124933,  0.00065832, -0.03572699, -0.04369202, -0.06078159,\n",
       "        0.02213956, -0.03786856, -0.01375635, -0.00246338,  0.03464214,\n",
       "       -0.01880604, -0.03677132,  0.00467275,  0.03742966,  0.0167763 ,\n",
       "        0.00290746, -0.0338918 ,  0.0140862 , -0.00047092, -0.02395891,\n",
       "        0.041545  ,  0.01075117, -0.0136485 , -0.03188495,  0.01054012,\n",
       "        0.01337547,  0.00603084, -0.01041854, -0.00974845, -0.04735749,\n",
       "        0.03484292, -0.00313595,  0.03756853, -0.06233218,  0.03412713,\n",
       "       -0.0285719 ,  0.00734939,  0.0418468 , -0.01721264,  0.02446469,\n",
       "        0.02165478,  0.0071917 , -0.0092208 , -0.02445669,  0.00525465,\n",
       "       -0.03265264, -0.01011046, -0.03273289,  0.04866724, -0.0154667 ,\n",
       "       -0.01242996,  0.01879467,  0.04692525,  0.04736991,  0.00128751,\n",
       "        0.04376223,  0.02011876, -0.01527876,  0.02118814,  0.0639031 ,\n",
       "        0.03634385,  0.00342411, -0.03365022,  0.02024442, -0.01472587],\n",
       "      dtype=float32)"
      ]
     },
     "execution_count": 28,
     "metadata": {},
     "output_type": "execute_result"
    }
   ],
   "source": [
    "# Vector\n",
    "v1 = word2vec.wv['intelligence'] \n",
    "v1"
   ]
  },
  {
   "cell_type": "markdown",
   "metadata": {},
   "source": [
    "In this space, we can explore the similarities between tokens. For instance, let's find the most similar words to \"intelligence\":"
   ]
  },
  {
   "cell_type": "code",
   "execution_count": 29,
   "metadata": {
    "colab": {
     "base_uri": "https://localhost:8080/"
    },
    "id": "MCQRhSF5bPFI",
    "outputId": "a5e38f27-28bb-45e5-9a49-ec33bb865d03"
   },
   "outputs": [
    {
     "data": {
      "text/plain": [
       "[('ai', 0.9684892296791077),\n",
       " ('learning', 0.9665432572364807),\n",
       " ('system', 0.9627737998962402),\n",
       " ('problem', 0.9623109698295593),\n",
       " ('human', 0.9587778449058533),\n",
       " ('use', 0.958672285079956),\n",
       " ('machine', 0.9563555717468262),\n",
       " ('input', 0.9553102254867554),\n",
       " ('algorithm', 0.9533578157424927),\n",
       " ('learn', 0.9532964825630188)]"
      ]
     },
     "execution_count": 29,
     "metadata": {},
     "output_type": "execute_result"
    }
   ],
   "source": [
    "# Similar vectors/words\n",
    "sim_words = word2vec.wv.most_similar('intelligence')\n",
    "sim_words"
   ]
  },
  {
   "cell_type": "markdown",
   "metadata": {},
   "source": [
    "Or the similarity between two words:"
   ]
  },
  {
   "cell_type": "code",
   "execution_count": 30,
   "metadata": {
    "colab": {
     "base_uri": "https://localhost:8080/"
    },
    "id": "bRBwWMjtcrOH",
    "outputId": "7d14ad52-266b-45d3-e54b-a2e66dcd857d"
   },
   "outputs": [
    {
     "name": "stdout",
     "output_type": "stream",
     "text": [
      "The similarity between \"computer\" and \"animal\" is:  0.5379945\n",
      "The similarity between \"computer\" and \"machine\" is:  0.9407522\n"
     ]
    }
   ],
   "source": [
    "# Similarity between two words\n",
    "print('The similarity between \"computer\" and \"animal\" is: ', word2vec.wv.similarity('computer', 'animal'))\n",
    "print('The similarity between \"computer\" and \"machine\" is: ', word2vec.wv.similarity('computer', 'machine'))"
   ]
  },
  {
   "cell_type": "markdown",
   "metadata": {
    "id": "zwoQg0xEf9kN"
   },
   "source": [
    "Remarks:\n",
    "- There are other models than Word2Vec in Gensim. For instance, `Doc2Vec` is used to create a vectorised representation of a group of words (i.e., a document) taken collectively as a single unit (illustrated in the next section).\n",
    "- Gensim has many applications besides word embedding, see e.g., [topic modelling](https://www.machinelearningplus.com/nlp/topic-modeling-gensim-python/). Feel free to explore the library!"
   ]
  },
  {
   "cell_type": "markdown",
   "metadata": {
    "id": "z-_83p20NjO-"
   },
   "source": [
    "### Your turn\n",
    "\n",
    "- Using the functions defined above, create a corpus of documents with the following Wikipedia articles: [Photovoltaics](https://en.wikipedia.org/wiki/Photovoltaics), [Wind turbine](https://en.wikipedia.org/wiki/Wind_turbine), [Hydropower](https://en.wikipedia.org/wiki/Hydropower), and [Nuclear power plant](https://en.wikipedia.org/wiki/Nuclear_power_plant). Do you know the share of each technology in the Swiss electricity mix? Check the [Electricity sector in Switzerland](https://en.wikipedia.org/wiki/Electricity_sector_in_Switzerland) for the answer..."
   ]
  },
  {
   "cell_type": "code",
   "execution_count": 31,
   "metadata": {},
   "outputs": [],
   "source": [
    "# YOUR CODE HERE\n"
   ]
  },
  {
   "cell_type": "markdown",
   "metadata": {},
   "source": [
    "- Preprocessing: Tokenize your corpus of documents"
   ]
  },
  {
   "cell_type": "code",
   "execution_count": 32,
   "metadata": {
    "id": "kTiVRKpjcrJT"
   },
   "outputs": [],
   "source": [
    "# YOUR CODE HERE\n"
   ]
  },
  {
   "cell_type": "markdown",
   "metadata": {},
   "source": [
    "- What is the number of occurrences of the word \"energy\"?"
   ]
  },
  {
   "cell_type": "code",
   "execution_count": 33,
   "metadata": {
    "id": "hz5BBzckeLAe"
   },
   "outputs": [],
   "source": [
    "# YOUR CODE HERE\n"
   ]
  },
  {
   "cell_type": "markdown",
   "metadata": {},
   "source": [
    "- Create a Word2Vec representation of the article with a min_count of 1 and a vector size of 50"
   ]
  },
  {
   "cell_type": "code",
   "execution_count": 34,
   "metadata": {
    "id": "3-1RbfX7fpzO"
   },
   "outputs": [],
   "source": [
    "# YOUR CODE HERE\n"
   ]
  },
  {
   "cell_type": "markdown",
   "metadata": {},
   "source": [
    "- What are the 10 most similar words to \"electricity\"?"
   ]
  },
  {
   "cell_type": "code",
   "execution_count": 35,
   "metadata": {},
   "outputs": [],
   "source": [
    "# YOUR CODE HERE\n"
   ]
  },
  {
   "cell_type": "markdown",
   "metadata": {
    "id": "o3he4niYadil"
   },
   "source": [
    "## Application: Text Classification with TF-IDF vs Doc2Vec\n",
    "\n",
    "In this section, we do an application on text classification to illustrate how the embedding can influence the accuracy of a classifier. \n",
    "\n",
    "Our goal is to classify consumer finance complaints into 12 pre-defined categories using:\n",
    "- TF-IDF and logistic regression\n",
    "- Doc2Vec and logistic regression\n",
    "We use the same tokenizer function, train-test split, classification algorithm, etc. The only difference is the mathematical representation (i.e., the vectorization from the tokens) of the complaints.\n",
    "\n",
    "This application was inspired by the articles published by Susan Li on Towards Data Science:\n",
    "- [Multi-Class Text Classification with Scikit-Learn](https://towardsdatascience.com/multi-class-text-classification-with-scikit-learn-12f1e60e0a9f)\n",
    "- [Multi-Class Text Classification with Doc2Vec & Logistic Regression](https://towardsdatascience.com/multi-class-text-classification-with-doc2vec-logistic-regression-9da9947b43f4)"
   ]
  },
  {
   "cell_type": "markdown",
   "metadata": {},
   "source": [
    "### Load and clean data\n",
    "\n",
    "We work with a sample of a large dataset from Data.gov that can be found [here](https://catalog.data.gov/dataset/consumer-complaint-database)."
   ]
  },
  {
   "cell_type": "code",
   "execution_count": 36,
   "metadata": {
    "colab": {
     "base_uri": "https://localhost:8080/",
     "height": 617
    },
    "id": "xiRTQshsihUu",
    "outputId": "0a96f12f-5610-4990-92f3-953668a53acf"
   },
   "outputs": [
    {
     "data": {
      "text/html": [
       "<div>\n",
       "<style scoped>\n",
       "    .dataframe tbody tr th:only-of-type {\n",
       "        vertical-align: middle;\n",
       "    }\n",
       "\n",
       "    .dataframe tbody tr th {\n",
       "        vertical-align: top;\n",
       "    }\n",
       "\n",
       "    .dataframe thead th {\n",
       "        text-align: right;\n",
       "    }\n",
       "</style>\n",
       "<table border=\"1\" class=\"dataframe\">\n",
       "  <thead>\n",
       "    <tr style=\"text-align: right;\">\n",
       "      <th></th>\n",
       "      <th>Date received</th>\n",
       "      <th>Product</th>\n",
       "      <th>Sub-product</th>\n",
       "      <th>Issue</th>\n",
       "      <th>Sub-issue</th>\n",
       "      <th>Consumer complaint narrative</th>\n",
       "      <th>Company public response</th>\n",
       "      <th>Company</th>\n",
       "      <th>State</th>\n",
       "      <th>ZIP code</th>\n",
       "      <th>Tags</th>\n",
       "      <th>Consumer consent provided?</th>\n",
       "      <th>Submitted via</th>\n",
       "      <th>Date sent to company</th>\n",
       "      <th>Company response to consumer</th>\n",
       "      <th>Timely response?</th>\n",
       "      <th>Consumer disputed?</th>\n",
       "      <th>Complaint ID</th>\n",
       "    </tr>\n",
       "  </thead>\n",
       "  <tbody>\n",
       "    <tr>\n",
       "      <th>0</th>\n",
       "      <td>2012-12-24</td>\n",
       "      <td>Credit card</td>\n",
       "      <td>NaN</td>\n",
       "      <td>Rewards</td>\n",
       "      <td>NaN</td>\n",
       "      <td>NaN</td>\n",
       "      <td>NaN</td>\n",
       "      <td>BANK OF AMERICA, NATIONAL ASSOCIATION</td>\n",
       "      <td>IL</td>\n",
       "      <td>60611</td>\n",
       "      <td>NaN</td>\n",
       "      <td>NaN</td>\n",
       "      <td>Web</td>\n",
       "      <td>2012-12-24</td>\n",
       "      <td>Closed with explanation</td>\n",
       "      <td>Yes</td>\n",
       "      <td>No</td>\n",
       "      <td>217083</td>\n",
       "    </tr>\n",
       "    <tr>\n",
       "      <th>1</th>\n",
       "      <td>2013-12-17</td>\n",
       "      <td>Mortgage</td>\n",
       "      <td>Conventional fixed mortgage</td>\n",
       "      <td>Application, originator, mortgage broker</td>\n",
       "      <td>NaN</td>\n",
       "      <td>NaN</td>\n",
       "      <td>NaN</td>\n",
       "      <td>REGIONS FINANCIAL CORPORATION</td>\n",
       "      <td>FL</td>\n",
       "      <td>33415</td>\n",
       "      <td>NaN</td>\n",
       "      <td>NaN</td>\n",
       "      <td>Web</td>\n",
       "      <td>2013-12-17</td>\n",
       "      <td>Closed with explanation</td>\n",
       "      <td>Yes</td>\n",
       "      <td>Yes</td>\n",
       "      <td>636638</td>\n",
       "    </tr>\n",
       "    <tr>\n",
       "      <th>2</th>\n",
       "      <td>2018-04-23</td>\n",
       "      <td>Credit reporting, credit repair services, or o...</td>\n",
       "      <td>Credit reporting</td>\n",
       "      <td>Incorrect information on your report</td>\n",
       "      <td>Information belongs to someone else</td>\n",
       "      <td>NaN</td>\n",
       "      <td>Company has responded to the consumer and the ...</td>\n",
       "      <td>Experian Information Solutions Inc.</td>\n",
       "      <td>TX</td>\n",
       "      <td>77386</td>\n",
       "      <td>NaN</td>\n",
       "      <td>NaN</td>\n",
       "      <td>Fax</td>\n",
       "      <td>2018-04-23</td>\n",
       "      <td>Closed with explanation</td>\n",
       "      <td>Yes</td>\n",
       "      <td>NaN</td>\n",
       "      <td>2883487</td>\n",
       "    </tr>\n",
       "    <tr>\n",
       "      <th>3</th>\n",
       "      <td>2019-01-04</td>\n",
       "      <td>Checking or savings account</td>\n",
       "      <td>Checking account</td>\n",
       "      <td>Managing an account</td>\n",
       "      <td>Deposits and withdrawals</td>\n",
       "      <td>NaN</td>\n",
       "      <td>NaN</td>\n",
       "      <td>HSBC NORTH AMERICA HOLDINGS INC.</td>\n",
       "      <td>AZ</td>\n",
       "      <td>94521</td>\n",
       "      <td>NaN</td>\n",
       "      <td>NaN</td>\n",
       "      <td>Referral</td>\n",
       "      <td>2019-01-08</td>\n",
       "      <td>Closed with explanation</td>\n",
       "      <td>Yes</td>\n",
       "      <td>NaN</td>\n",
       "      <td>3118526</td>\n",
       "    </tr>\n",
       "    <tr>\n",
       "      <th>4</th>\n",
       "      <td>2014-07-22</td>\n",
       "      <td>Debt collection</td>\n",
       "      <td>Payday loan</td>\n",
       "      <td>Cont'd attempts collect debt not owed</td>\n",
       "      <td>Debt is not mine</td>\n",
       "      <td>NaN</td>\n",
       "      <td>NaN</td>\n",
       "      <td>ENOVA INTERNATIONAL, INC.</td>\n",
       "      <td>GA</td>\n",
       "      <td>30038</td>\n",
       "      <td>NaN</td>\n",
       "      <td>NaN</td>\n",
       "      <td>Web</td>\n",
       "      <td>2014-07-22</td>\n",
       "      <td>Closed with explanation</td>\n",
       "      <td>Yes</td>\n",
       "      <td>No</td>\n",
       "      <td>948293</td>\n",
       "    </tr>\n",
       "  </tbody>\n",
       "</table>\n",
       "</div>"
      ],
      "text/plain": [
       "  Date received                                            Product  \\\n",
       "0    2012-12-24                                        Credit card   \n",
       "1    2013-12-17                                           Mortgage   \n",
       "2    2018-04-23  Credit reporting, credit repair services, or o...   \n",
       "3    2019-01-04                        Checking or savings account   \n",
       "4    2014-07-22                                    Debt collection   \n",
       "\n",
       "                   Sub-product                                     Issue  \\\n",
       "0                          NaN                                   Rewards   \n",
       "1  Conventional fixed mortgage  Application, originator, mortgage broker   \n",
       "2             Credit reporting      Incorrect information on your report   \n",
       "3             Checking account                       Managing an account   \n",
       "4                  Payday loan     Cont'd attempts collect debt not owed   \n",
       "\n",
       "                             Sub-issue Consumer complaint narrative  \\\n",
       "0                                  NaN                          NaN   \n",
       "1                                  NaN                          NaN   \n",
       "2  Information belongs to someone else                          NaN   \n",
       "3             Deposits and withdrawals                          NaN   \n",
       "4                     Debt is not mine                          NaN   \n",
       "\n",
       "                             Company public response  \\\n",
       "0                                                NaN   \n",
       "1                                                NaN   \n",
       "2  Company has responded to the consumer and the ...   \n",
       "3                                                NaN   \n",
       "4                                                NaN   \n",
       "\n",
       "                                 Company State ZIP code Tags  \\\n",
       "0  BANK OF AMERICA, NATIONAL ASSOCIATION    IL    60611  NaN   \n",
       "1          REGIONS FINANCIAL CORPORATION    FL    33415  NaN   \n",
       "2    Experian Information Solutions Inc.    TX    77386  NaN   \n",
       "3       HSBC NORTH AMERICA HOLDINGS INC.    AZ    94521  NaN   \n",
       "4              ENOVA INTERNATIONAL, INC.    GA    30038  NaN   \n",
       "\n",
       "  Consumer consent provided? Submitted via Date sent to company  \\\n",
       "0                        NaN           Web           2012-12-24   \n",
       "1                        NaN           Web           2013-12-17   \n",
       "2                        NaN           Fax           2018-04-23   \n",
       "3                        NaN      Referral           2019-01-08   \n",
       "4                        NaN           Web           2014-07-22   \n",
       "\n",
       "  Company response to consumer Timely response? Consumer disputed?  \\\n",
       "0      Closed with explanation              Yes                 No   \n",
       "1      Closed with explanation              Yes                Yes   \n",
       "2      Closed with explanation              Yes                NaN   \n",
       "3      Closed with explanation              Yes                NaN   \n",
       "4      Closed with explanation              Yes                 No   \n",
       "\n",
       "   Complaint ID  \n",
       "0        217083  \n",
       "1        636638  \n",
       "2       2883487  \n",
       "3       3118526  \n",
       "4        948293  "
      ]
     },
     "execution_count": 36,
     "metadata": {},
     "output_type": "execute_result"
    }
   ],
   "source": [
    "# Load data from GitHub\n",
    "path = \"https://raw.githubusercontent.com/michalis0/MGT-502-Data-Science-and-Machine-Learning/main/data/complaints_sample.csv\"\n",
    "df = pd.read_csv(path, index_col=0)\n",
    "df.head()"
   ]
  },
  {
   "cell_type": "code",
   "execution_count": 37,
   "metadata": {
    "colab": {
     "base_uri": "https://localhost:8080/"
    },
    "id": "Cys9L2XidZsq",
    "outputId": "e627051e-e3e0-4356-c377-ac30ee0be747"
   },
   "outputs": [
    {
     "name": "stdout",
     "output_type": "stream",
     "text": [
      "<class 'pandas.core.frame.DataFrame'>\n",
      "Int64Index: 9101 entries, 0 to 9100\n",
      "Data columns (total 18 columns):\n",
      " #   Column                        Non-Null Count  Dtype \n",
      "---  ------                        --------------  ----- \n",
      " 0   Date received                 9101 non-null   object\n",
      " 1   Product                       9101 non-null   object\n",
      " 2   Sub-product                   7942 non-null   object\n",
      " 3   Issue                         9101 non-null   object\n",
      " 4   Sub-issue                     6251 non-null   object\n",
      " 5   Consumer complaint narrative  3137 non-null   object\n",
      " 6   Company public response       3863 non-null   object\n",
      " 7   Company                       9101 non-null   object\n",
      " 8   State                         8946 non-null   object\n",
      " 9   ZIP code                      8199 non-null   object\n",
      " 10  Tags                          1171 non-null   object\n",
      " 11  Consumer consent provided?    5869 non-null   object\n",
      " 12  Submitted via                 9101 non-null   object\n",
      " 13  Date sent to company          9101 non-null   object\n",
      " 14  Company response to consumer  9101 non-null   object\n",
      " 15  Timely response?              9101 non-null   object\n",
      " 16  Consumer disputed?            3712 non-null   object\n",
      " 17  Complaint ID                  9101 non-null   int64 \n",
      "dtypes: int64(1), object(17)\n",
      "memory usage: 1.3+ MB\n"
     ]
    }
   ],
   "source": [
    "df.info()"
   ]
  },
  {
   "cell_type": "markdown",
   "metadata": {
    "id": "Pyg-rztyPJ6e"
   },
   "source": [
    "The data set includes 18 columns and 9101 rows describing consumer complaints about financial products. In this case, we want to predict the `Product` category based on the text of the complaint (i.e., `Consumer complaint narrative`)."
   ]
  },
  {
   "cell_type": "code",
   "execution_count": 38,
   "metadata": {
    "colab": {
     "base_uri": "https://localhost:8080/",
     "height": 206
    },
    "id": "9mgx17mnpy2s",
    "outputId": "e1e1c9c5-7db2-4fac-f025-667c6888360b"
   },
   "outputs": [],
   "source": [
    "# Select columns of interest\n",
    "data = df[[\"Product\", \"Consumer complaint narrative\"]]"
   ]
  },
  {
   "cell_type": "markdown",
   "metadata": {
    "id": "NhB01GG6QXVP"
   },
   "source": [
    "Around 2/3 of the complaints are null values. They are not useful for the prediction so we drop them."
   ]
  },
  {
   "cell_type": "code",
   "execution_count": 39,
   "metadata": {
    "colab": {
     "base_uri": "https://localhost:8080/",
     "height": 260
    },
    "id": "mbno4wghqCNH",
    "outputId": "f8d6d432-5289-41cb-beb7-a62502ca55fe"
   },
   "outputs": [
    {
     "name": "stdout",
     "output_type": "stream",
     "text": [
      "Product                            0\n",
      "Consumer complaint narrative    5964\n",
      "dtype: int64\n"
     ]
    },
    {
     "data": {
      "text/html": [
       "<div>\n",
       "<style scoped>\n",
       "    .dataframe tbody tr th:only-of-type {\n",
       "        vertical-align: middle;\n",
       "    }\n",
       "\n",
       "    .dataframe tbody tr th {\n",
       "        vertical-align: top;\n",
       "    }\n",
       "\n",
       "    .dataframe thead th {\n",
       "        text-align: right;\n",
       "    }\n",
       "</style>\n",
       "<table border=\"1\" class=\"dataframe\">\n",
       "  <thead>\n",
       "    <tr style=\"text-align: right;\">\n",
       "      <th></th>\n",
       "      <th>Product</th>\n",
       "      <th>Consumer complaint narrative</th>\n",
       "    </tr>\n",
       "  </thead>\n",
       "  <tbody>\n",
       "    <tr>\n",
       "      <th>0</th>\n",
       "      <td>Credit card or prepaid card</td>\n",
       "      <td>Back in XX/XX/2019 a company called XXXX charg...</td>\n",
       "    </tr>\n",
       "    <tr>\n",
       "      <th>1</th>\n",
       "      <td>Credit reporting, credit repair services, or o...</td>\n",
       "      <td>XXXX is reporting a single late payment over 7...</td>\n",
       "    </tr>\n",
       "    <tr>\n",
       "      <th>2</th>\n",
       "      <td>Credit reporting, credit repair services, or o...</td>\n",
       "      <td>I have disputed the following account, ( 1 ) X...</td>\n",
       "    </tr>\n",
       "    <tr>\n",
       "      <th>3</th>\n",
       "      <td>Credit reporting, credit repair services, or o...</td>\n",
       "      <td>In XX/XX/XXXXI disputed the following items on...</td>\n",
       "    </tr>\n",
       "    <tr>\n",
       "      <th>4</th>\n",
       "      <td>Credit card or prepaid card</td>\n",
       "      <td>The response from Citi Cards has cleared up a ...</td>\n",
       "    </tr>\n",
       "  </tbody>\n",
       "</table>\n",
       "</div>"
      ],
      "text/plain": [
       "                                             Product  \\\n",
       "0                        Credit card or prepaid card   \n",
       "1  Credit reporting, credit repair services, or o...   \n",
       "2  Credit reporting, credit repair services, or o...   \n",
       "3  Credit reporting, credit repair services, or o...   \n",
       "4                        Credit card or prepaid card   \n",
       "\n",
       "                        Consumer complaint narrative  \n",
       "0  Back in XX/XX/2019 a company called XXXX charg...  \n",
       "1  XXXX is reporting a single late payment over 7...  \n",
       "2  I have disputed the following account, ( 1 ) X...  \n",
       "3  In XX/XX/XXXXI disputed the following items on...  \n",
       "4  The response from Citi Cards has cleared up a ...  "
      ]
     },
     "execution_count": 39,
     "metadata": {},
     "output_type": "execute_result"
    }
   ],
   "source": [
    "# Drop NaN\n",
    "print(data.isnull().sum())\n",
    "data = data.dropna().reset_index(drop=True)\n",
    "data.head()"
   ]
  },
  {
   "cell_type": "code",
   "execution_count": 40,
   "metadata": {
    "colab": {
     "base_uri": "https://localhost:8080/"
    },
    "id": "mgb3yc3KqCLr",
    "outputId": "44ce8643-a925-47a7-b49c-72392f507aff"
   },
   "outputs": [
    {
     "name": "stdout",
     "output_type": "stream",
     "text": [
      "<class 'pandas.core.frame.DataFrame'>\n",
      "RangeIndex: 3137 entries, 0 to 3136\n",
      "Data columns (total 2 columns):\n",
      " #   Column                        Non-Null Count  Dtype \n",
      "---  ------                        --------------  ----- \n",
      " 0   Product                       3137 non-null   object\n",
      " 1   Consumer complaint narrative  3137 non-null   object\n",
      "dtypes: object(2)\n",
      "memory usage: 49.1+ KB\n"
     ]
    }
   ],
   "source": [
    "data.info()"
   ]
  },
  {
   "cell_type": "markdown",
   "metadata": {
    "id": "hCasthTDQrYb"
   },
   "source": [
    "We end up with 3137 complaints for which we would like to predict the product concerned."
   ]
  },
  {
   "cell_type": "markdown",
   "metadata": {
    "id": "Rc8z_6SkTIx2"
   },
   "source": [
    "### Exploratory Data Analysis"
   ]
  },
  {
   "cell_type": "markdown",
   "metadata": {},
   "source": [
    "As always, we start by an EDA to better understand our data and inform our analysis. First note that we are dealing with a dataset containing a large number of words: "
   ]
  },
  {
   "cell_type": "code",
   "execution_count": 41,
   "metadata": {
    "colab": {
     "base_uri": "https://localhost:8080/"
    },
    "id": "1JQ8GFf0ihb3",
    "outputId": "41aabd76-265b-4723-9a9d-56a0e0ffbe40"
   },
   "outputs": [
    {
     "name": "stdout",
     "output_type": "stream",
     "text": [
      "The complaints contain 610062 words.\n"
     ]
    }
   ],
   "source": [
    "# Total number of words - over 600,000\n",
    "words_number = data['Consumer complaint narrative'].apply(lambda x: len(x.split(' '))).sum()\n",
    "print(f'The complaints contain {words_number} words.')"
   ]
  },
  {
   "cell_type": "markdown",
   "metadata": {},
   "source": [
    "Let's extract a sample to see how the complaints look like:"
   ]
  },
  {
   "cell_type": "code",
   "execution_count": 42,
   "metadata": {
    "colab": {
     "base_uri": "https://localhost:8080/",
     "height": 72
    },
    "id": "ppQTFaZ6t9dy",
    "outputId": "a4f1eab2-5572-4fee-a9f7-4191bfa7b27c"
   },
   "outputs": [
    {
     "data": {
      "text/plain": [
       "\"I have not had XXXX XXXX XXXX as a service since 2009 and when i left them i paid off my account and contract with nothing owed. Today i have a new collection on my report from a collection company that bought the debt from XXXX XXXX XXXX. I've tried to communicate with them and the credit bureaus that this debt is not mine but have not gotten any results. Please help as it is affecting my ability to get the best home interest rates.\""
      ]
     },
     "execution_count": 42,
     "metadata": {},
     "output_type": "execute_result"
    }
   ],
   "source": [
    "# Sample\n",
    "data['Consumer complaint narrative'].sample().values[0]"
   ]
  },
  {
   "cell_type": "markdown",
   "metadata": {
    "id": "HDpSTJyZQ6O5"
   },
   "source": [
    "The data has been anonymized (i.e., names, dates, IDs, etc. have been replaced by XXXX).\n",
    "\n",
    "Next, note that the classes (products) are imbalanced:"
   ]
  },
  {
   "cell_type": "code",
   "execution_count": 43,
   "metadata": {
    "colab": {
     "base_uri": "https://localhost:8080/"
    },
    "id": "vdDpzPPouaSN",
    "outputId": "12f3b81f-1785-40db-cd70-9d4265916d07"
   },
   "outputs": [
    {
     "data": {
      "text/plain": [
       "Credit reporting, credit repair services, or other personal consumer reports    1123\n",
       "Debt collection                                                                  640\n",
       "Mortgage                                                                         378\n",
       "Credit card or prepaid card                                                      211\n",
       "Credit reporting                                                                 167\n",
       "Student loan                                                                     129\n",
       "Checking or savings account                                                      119\n",
       "Credit card                                                                       74\n",
       "Money transfer, virtual currency, or money service                                64\n",
       "Bank account or service                                                           64\n",
       "Vehicle loan or lease                                                             57\n",
       "Payday loan, title loan, or personal loan                                         47\n",
       "Consumer Loan                                                                     38\n",
       "Payday loan                                                                        8\n",
       "Money transfers                                                                    8\n",
       "Prepaid card                                                                       6\n",
       "Other financial service                                                            4\n",
       "Name: Product, dtype: int64"
      ]
     },
     "execution_count": 43,
     "metadata": {},
     "output_type": "execute_result"
    }
   ],
   "source": [
    "# Imbalanced dataset\n",
    "data.Product.value_counts()"
   ]
  },
  {
   "cell_type": "markdown",
   "metadata": {
    "id": "FDon6qpmRMzo"
   },
   "source": [
    "There are 17 categories. We group some of them together (e.g. \"Credit card\", \"Prepaid card\", and \"Credit or prepaid card\") because they are sub-categories of each other. We end up with 12 categories."
   ]
  },
  {
   "cell_type": "code",
   "execution_count": 44,
   "metadata": {
    "colab": {
     "base_uri": "https://localhost:8080/"
    },
    "id": "er1kzzv3vBSt",
    "outputId": "ca3d64ce-7599-469d-8586-99bd4bf85b7e"
   },
   "outputs": [
    {
     "data": {
      "text/plain": [
       "Credit reporting, credit repair services, or other personal consumer reports    1290\n",
       "Debt collection                                                                  640\n",
       "Mortgage                                                                         378\n",
       "Credit card or prepaid card                                                      291\n",
       "Student loan                                                                     129\n",
       "Checking or savings account                                                      119\n",
       "Money transfer, virtual currency, or money service                                72\n",
       "Bank account or service                                                           64\n",
       "Vehicle loan or lease                                                             57\n",
       "Payday loan, title loan, or personal loan                                         55\n",
       "Consumer Loan                                                                     38\n",
       "Other financial service                                                            4\n",
       "Name: Product, dtype: int64"
      ]
     },
     "execution_count": 44,
     "metadata": {},
     "output_type": "execute_result"
    }
   ],
   "source": [
    "# Merge categories\n",
    "dic_replace = {'Credit reporting':'Credit reporting, credit repair services, or other personal consumer reports', \n",
    "               'Credit card':'Credit card or prepaid card', \n",
    "               'Payday loan':'Payday loan, title loan, or personal loan', \n",
    "               'Money transfers':'Money transfer, virtual currency, or money service',\n",
    "               'Prepaid card':'Credit card or prepaid card',\n",
    "               'Virtual currency':'Money transfer, virtual currency, or money service'}\n",
    "data.replace(dic_replace, inplace=True)\n",
    "data.Product.value_counts()"
   ]
  },
  {
   "cell_type": "markdown",
   "metadata": {},
   "source": [
    "Let's visualize the number of observation per product using a bar plot."
   ]
  },
  {
   "cell_type": "code",
   "execution_count": 45,
   "metadata": {
    "colab": {
     "base_uri": "https://localhost:8080/",
     "height": 702
    },
    "id": "iEeOpaMQtgAA",
    "outputId": "3f261e91-8d48-42e9-ee77-469d1f318367"
   },
   "outputs": [
    {
     "data": {
      "image/png": "[encoded data removed]",
      "text/plain": [
       "<Figure size 1200x400 with 1 Axes>"
      ]
     },
     "metadata": {},
     "output_type": "display_data"
    }
   ],
   "source": [
    "# Plot number of complaints per category\n",
    "cnt_pro = data['Product'].value_counts()\n",
    "plt.figure(figsize=(12,4))\n",
    "sns.countplot(x=data['Product'], order = cnt_pro.index)\n",
    "plt.ylabel('Number of Occurrences', fontsize=12)\n",
    "plt.xlabel('Product', fontsize=12)\n",
    "plt.xticks(rotation=90)\n",
    "plt.show()"
   ]
  },
  {
   "cell_type": "markdown",
   "metadata": {},
   "source": [
    "Finally, let's compute the base rate, i.e., the accuracy obtained using a naive classifier that predicts that all observations are from the largest class (\"Credit reporting, credit repair services, or other personal consumer reports\")."
   ]
  },
  {
   "cell_type": "code",
   "execution_count": 46,
   "metadata": {
    "colab": {
     "base_uri": "https://localhost:8080/"
    },
    "id": "5JdF1razudYJ",
    "outputId": "669f604d-9a0c-4059-e06e-cec3f7e2f4d0",
    "tags": []
   },
   "outputs": [
    {
     "name": "stdout",
     "output_type": "stream",
     "text": [
      "The base rate is: 41.12%\n"
     ]
    }
   ],
   "source": [
    "# Base rate\n",
    "base_rate = round(len(data[data.Product == \"Credit reporting, credit repair services, or other personal consumer reports\"]) / len (data), 4)\n",
    "print(f'The base rate is: {base_rate*100:0.2f}%')"
   ]
  },
  {
   "cell_type": "markdown",
   "metadata": {
    "id": "bBr6OSytTLgD"
   },
   "source": [
    "### Classification using TF-IDF and Logistic Regression"
   ]
  },
  {
   "cell_type": "markdown",
   "metadata": {},
   "source": [
    "We first define our training and test set, using the `train_test_split` module of sklearn."
   ]
  },
  {
   "cell_type": "code",
   "execution_count": 47,
   "metadata": {},
   "outputs": [],
   "source": [
    "# Select features\n",
    "X = data['Consumer complaint narrative'] # Features we want to analyze\n",
    "ylabels = data['Product']                # Labels we test against\n",
    "\n",
    "# Train test split\n",
    "X_train, X_test, y_train, y_test = train_test_split(X, ylabels, test_size=0.2, random_state=1234)"
   ]
  },
  {
   "cell_type": "markdown",
   "metadata": {},
   "source": [
    "Next, we use the `TfidfVectorizer` class of sklearn for the word embedding. Since we are dealing with very specific data (e.g., the anonymization process generated non-standard sequence of characters), we are defining our own tokenizer function, which we can use as parameter of `TfidfVectorizer` instead of the default one."
   ]
  },
  {
   "cell_type": "code",
   "execution_count": 48,
   "metadata": {
    "id": "vXHnUbjerLPD"
   },
   "outputs": [],
   "source": [
    "# Define tokenizer function\n",
    "def spacy_tokenizer(sentence):\n",
    "\n",
    "    punctuations = string.punctuation\n",
    "    stop_words = spacy.lang.en.stop_words.STOP_WORDS\n",
    "\n",
    "    # Create token object, which is used to create documents with linguistic annotations.\n",
    "    mytokens = sp(sentence)\n",
    "\n",
    "    # Lemmatize each token and convert each token into lowercase\n",
    "    mytokens = [ word.lemma_.lower().strip() if word.lemma_ != \"-PRON-\" else word.lower_ for word in mytokens ]\n",
    "\n",
    "    # Remove stop words and punctuation\n",
    "    mytokens = [ word for word in mytokens if word not in stop_words and word not in punctuations ]\n",
    "\n",
    "    # Remove anonymous dates and people\n",
    "    mytokens = [ word.replace('xx/', '').replace('xxxx/', '').replace('xx', '') for word in mytokens ]\n",
    "    mytokens = [ word for word in mytokens if word not in [\"xxxx\", \"xx\", \"\"] ]\n",
    "\n",
    "    # Return preprocessed list of tokens\n",
    "    return mytokens"
   ]
  },
  {
   "cell_type": "markdown",
   "metadata": {},
   "source": [
    "As other parameters of `TfidfVectorizer`, we are using token and pair of tokens (`ngram_range = (1,2)`) and we ignore terms that have a document frequency strictly lower than 5 (`min_df = 5`). \n",
    "\n",
    "Note that we also rely on the `Pipeline` module of sklearn ([Documentation](https://scikit-learn.org/stable/modules/generated/sklearn.pipeline.Pipeline.html)) to sequentially apply models, first the vectorizer, then the classifier. We also time our training (it might take a few minutes)."
   ]
  },
  {
   "cell_type": "code",
   "execution_count": 49,
   "metadata": {
    "colab": {
     "base_uri": "https://localhost:8080/"
    },
    "id": "3tTbx3oswIan",
    "outputId": "276c2c47-d4da-40f7-83f1-04939c7c0da0"
   },
   "outputs": [
    {
     "name": "stderr",
     "output_type": "stream",
     "text": [
      "C:\\Users\\kitty\\anaconda3\\lib\\site-packages\\sklearn\\feature_extraction\\text.py:528: UserWarning: The parameter 'token_pattern' will not be used since 'tokenizer' is not None'\n",
      "  warnings.warn(\n"
     ]
    },
    {
     "name": "stdout",
     "output_type": "stream",
     "text": [
      "CPU times: total: 1min 15s\n",
      "Wall time: 1min 59s\n"
     ]
    },
    {
     "data": {
      "text/html": [
       "<style>#sk-container-id-1 {color: black;background-color: white;}#sk-container-id-1 pre{padding: 0;}#sk-container-id-1 div.sk-toggleable {background-color: white;}#sk-container-id-1 label.sk-toggleable__label {cursor: pointer;display: block;width: 100%;margin-bottom: 0;padding: 0.3em;box-sizing: border-box;text-align: center;}#sk-container-id-1 label.sk-toggleable__label-arrow:before {content: \"▸\";float: left;margin-right: 0.25em;color: #696969;}#sk-container-id-1 label.sk-toggleable__label-arrow:hover:before {color: black;}#sk-container-id-1 div.sk-estimator:hover label.sk-toggleable__label-arrow:before {color: black;}#sk-container-id-1 div.sk-toggleable__content {max-height: 0;max-width: 0;overflow: hidden;text-align: left;background-color: #f0f8ff;}#sk-container-id-1 div.sk-toggleable__content pre {margin: 0.2em;color: black;border-radius: 0.25em;background-color: #f0f8ff;}#sk-container-id-1 input.sk-toggleable__control:checked~div.sk-toggleable__content {max-height: 200px;max-width: 100%;overflow: auto;}#sk-container-id-1 input.sk-toggleable__control:checked~label.sk-toggleable__label-arrow:before {content: \"▾\";}#sk-container-id-1 div.sk-estimator input.sk-toggleable__control:checked~label.sk-toggleable__label {background-color: #d4ebff;}#sk-container-id-1 div.sk-label input.sk-toggleable__control:checked~label.sk-toggleable__label {background-color: #d4ebff;}#sk-container-id-1 input.sk-hidden--visually {border: 0;clip: rect(1px 1px 1px 1px);clip: rect(1px, 1px, 1px, 1px);height: 1px;margin: -1px;overflow: hidden;padding: 0;position: absolute;width: 1px;}#sk-container-id-1 div.sk-estimator {font-family: monospace;background-color: #f0f8ff;border: 1px dotted black;border-radius: 0.25em;box-sizing: border-box;margin-bottom: 0.5em;}#sk-container-id-1 div.sk-estimator:hover {background-color: #d4ebff;}#sk-container-id-1 div.sk-parallel-item::after {content: \"\";width: 100%;border-bottom: 1px solid gray;flex-grow: 1;}#sk-container-id-1 div.sk-label:hover label.sk-toggleable__label {background-color: #d4ebff;}#sk-container-id-1 div.sk-serial::before {content: \"\";position: absolute;border-left: 1px solid gray;box-sizing: border-box;top: 0;bottom: 0;left: 50%;z-index: 0;}#sk-container-id-1 div.sk-serial {display: flex;flex-direction: column;align-items: center;background-color: white;padding-right: 0.2em;padding-left: 0.2em;position: relative;}#sk-container-id-1 div.sk-item {position: relative;z-index: 1;}#sk-container-id-1 div.sk-parallel {display: flex;align-items: stretch;justify-content: center;background-color: white;position: relative;}#sk-container-id-1 div.sk-item::before, #sk-container-id-1 div.sk-parallel-item::before {content: \"\";position: absolute;border-left: 1px solid gray;box-sizing: border-box;top: 0;bottom: 0;left: 50%;z-index: -1;}#sk-container-id-1 div.sk-parallel-item {display: flex;flex-direction: column;z-index: 1;position: relative;background-color: white;}#sk-container-id-1 div.sk-parallel-item:first-child::after {align-self: flex-end;width: 50%;}#sk-container-id-1 div.sk-parallel-item:last-child::after {align-self: flex-start;width: 50%;}#sk-container-id-1 div.sk-parallel-item:only-child::after {width: 0;}#sk-container-id-1 div.sk-dashed-wrapped {border: 1px dashed gray;margin: 0 0.4em 0.5em 0.4em;box-sizing: border-box;padding-bottom: 0.4em;background-color: white;}#sk-container-id-1 div.sk-label label {font-family: monospace;font-weight: bold;display: inline-block;line-height: 1.2em;}#sk-container-id-1 div.sk-label-container {text-align: center;}#sk-container-id-1 div.sk-container {/* jupyter's `normalize.less` sets `[hidden] { display: none; }` but bootstrap.min.css set `[hidden] { display: none !important; }` so we also need the `!important` here to be able to override the default hidden behavior on the sphinx rendered scikit-learn.org. See: https://github.com/scikit-learn/scikit-learn/issues/21755 */display: inline-block !important;position: relative;}#sk-container-id-1 div.sk-text-repr-fallback {display: none;}</style><div id=\"sk-container-id-1\" class=\"sk-top-container\"><div class=\"sk-text-repr-fallback\"><pre>Pipeline(steps=[(&#x27;vectorizer&#x27;,\n",
       "                 TfidfVectorizer(encoding=&#x27;latin-1&#x27;, min_df=5,\n",
       "                                 ngram_range=(1, 2), sublinear_tf=True,\n",
       "                                 tokenizer=&lt;function spacy_tokenizer at 0x000002746B3F5160&gt;)),\n",
       "                (&#x27;classifier&#x27;, LogisticRegression(max_iter=1000))])</pre><b>In a Jupyter environment, please rerun this cell to show the HTML representation or trust the notebook. <br />On GitHub, the HTML representation is unable to render, please try loading this page with nbviewer.org.</b></div><div class=\"sk-container\" hidden><div class=\"sk-item sk-dashed-wrapped\"><div class=\"sk-label-container\"><div class=\"sk-label sk-toggleable\"><input class=\"sk-toggleable__control sk-hidden--visually\" id=\"sk-estimator-id-1\" type=\"checkbox\" ><label for=\"sk-estimator-id-1\" class=\"sk-toggleable__label sk-toggleable__label-arrow\">Pipeline</label><div class=\"sk-toggleable__content\"><pre>Pipeline(steps=[(&#x27;vectorizer&#x27;,\n",
       "                 TfidfVectorizer(encoding=&#x27;latin-1&#x27;, min_df=5,\n",
       "                                 ngram_range=(1, 2), sublinear_tf=True,\n",
       "                                 tokenizer=&lt;function spacy_tokenizer at 0x000002746B3F5160&gt;)),\n",
       "                (&#x27;classifier&#x27;, LogisticRegression(max_iter=1000))])</pre></div></div></div><div class=\"sk-serial\"><div class=\"sk-item\"><div class=\"sk-estimator sk-toggleable\"><input class=\"sk-toggleable__control sk-hidden--visually\" id=\"sk-estimator-id-2\" type=\"checkbox\" ><label for=\"sk-estimator-id-2\" class=\"sk-toggleable__label sk-toggleable__label-arrow\">TfidfVectorizer</label><div class=\"sk-toggleable__content\"><pre>TfidfVectorizer(encoding=&#x27;latin-1&#x27;, min_df=5, ngram_range=(1, 2),\n",
       "                sublinear_tf=True,\n",
       "                tokenizer=&lt;function spacy_tokenizer at 0x000002746B3F5160&gt;)</pre></div></div></div><div class=\"sk-item\"><div class=\"sk-estimator sk-toggleable\"><input class=\"sk-toggleable__control sk-hidden--visually\" id=\"sk-estimator-id-3\" type=\"checkbox\" ><label for=\"sk-estimator-id-3\" class=\"sk-toggleable__label sk-toggleable__label-arrow\">LogisticRegression</label><div class=\"sk-toggleable__content\"><pre>LogisticRegression(max_iter=1000)</pre></div></div></div></div></div></div></div>"
      ],
      "text/plain": [
       "Pipeline(steps=[('vectorizer',\n",
       "                 TfidfVectorizer(encoding='latin-1', min_df=5,\n",
       "                                 ngram_range=(1, 2), sublinear_tf=True,\n",
       "                                 tokenizer=<function spacy_tokenizer at 0x000002746B3F5160>)),\n",
       "                ('classifier', LogisticRegression(max_iter=1000))])"
      ]
     },
     "execution_count": 49,
     "metadata": {},
     "output_type": "execute_result"
    }
   ],
   "source": [
    "%%time\n",
    "# Define vectorizer\n",
    "tfidf = TfidfVectorizer(sublinear_tf=True, min_df=5, norm='l2', encoding='latin-1', ngram_range=(1, 2), tokenizer=spacy_tokenizer)\n",
    "\n",
    "# Define classifier\n",
    "classifier = LogisticRegression(solver='lbfgs', max_iter=1000)\n",
    "\n",
    "# Create pipeline\n",
    "pipe = Pipeline([('vectorizer', tfidf),\n",
    "                 ('classifier', classifier)])\n",
    "\n",
    "# Fit model on training set\n",
    "pipe.fit(X_train, y_train)"
   ]
  },
  {
   "cell_type": "markdown",
   "metadata": {},
   "source": [
    "Finally, we predict the test set values and evalute the performance of our model:"
   ]
  },
  {
   "cell_type": "code",
   "execution_count": 50,
   "metadata": {
    "colab": {
     "base_uri": "https://localhost:8080/",
     "height": 895
    },
    "id": "dC3Pbqxlxod2",
    "outputId": "f6c43488-56a2-4ccc-d371-b5f6616eec65"
   },
   "outputs": [],
   "source": [
    "# Predictions\n",
    "y_pred = pipe.predict(X_test)"
   ]
  },
  {
   "cell_type": "code",
   "execution_count": 51,
   "metadata": {},
   "outputs": [
    {
     "name": "stdout",
     "output_type": "stream",
     "text": [
      "The accuracy using TF-IDF is: 73.73%\n"
     ]
    },
    {
     "data": {
      "image/png": "[encoded data removed]",
      "text/plain": [
       "<Figure size 800x700 with 2 Axes>"
      ]
     },
     "metadata": {},
     "output_type": "display_data"
    }
   ],
   "source": [
    "# Evaluate model\n",
    "\n",
    "## Accuracy\n",
    "accuracy_tfidf = round(accuracy_score(y_test, y_pred), 4)\n",
    "print(f'The accuracy using TF-IDF is: {accuracy_tfidf*100:0.2f}%')\n",
    "\n",
    "## Confusion matrix\n",
    "conf_mat = confusion_matrix(y_test, y_pred)\n",
    "fig, ax = plt.subplots(figsize=(8,7))\n",
    "sns.heatmap(conf_mat, annot=True, fmt='d')\n",
    "plt.ylabel('Actual')\n",
    "plt.xlabel('Predicted')\n",
    "plt.show()"
   ]
  },
  {
   "cell_type": "markdown",
   "metadata": {
    "id": "Thl75Ei5TRZz"
   },
   "source": [
    "### Classification using Doc2Vec and Logistic Regression\n",
    "\n",
    "We now try to do the same exercise, but using [Doc2Vec](https://radimrehurek.com/gensim/models/doc2vec.html). While Word2Vec computes a feature vector for every word in the corpus, Doc2Vec computes a feature vector for every document (i.e., sentence) in the corpus.\n",
    "\n",
    "We first tokenize our data, using the same tokenizer as before. We use `TaggedDocument` from Gensim to obtain the appropriate input document format for `Doc2Vec`. `TaggedDocument` returns, for each observation, a document containing *words* (i.e., a list of tokens) and the associated *tags* (our label)."
   ]
  },
  {
   "cell_type": "code",
   "execution_count": 52,
   "metadata": {
    "colab": {
     "base_uri": "https://localhost:8080/"
    },
    "id": "PDBzqEryVgSY",
    "outputId": "99282cb7-2281-45bf-c4e2-130715a1a095"
   },
   "outputs": [
    {
     "name": "stdout",
     "output_type": "stream",
     "text": [
      "0     ([2019, company, charge, credit, card, 230.00,...\n",
      "1     ([report, single, late, payment, 7, year, old,...\n",
      "2     ([dispute, follow, account, 1, 4.00, 2, 0.00, ...\n",
      "3     ([i, dispute, follow, item, credit, report, bu...\n",
      "4     ([response, citi, cards, clear, lot, confusion...\n",
      "5     ([concern, contact, today, try, payment, mortg...\n",
      "6     ([write, letter, file, complaint, begin, recei...\n",
      "7     ([2016, purchase, truck, tell, finance, manage...\n",
      "8     ([employer, submit, background, check, receive...\n",
      "9     ([authorize, hard, credit, pull, credit, autho...\n",
      "10    ([rushcard, access, fund, account, negative, b...\n",
      "11    ([old, closed, account, remove, old, voluntary...\n",
      "12    ([executive, offices, department, credit, card...\n",
      "13    ([2, hard, inquiries, cbna, apply, card, suspe...\n",
      "14    ([hard, inquiry, submit, credit, report, barcl...\n",
      "15    ([request, credit, report, notice, account, re...\n",
      "16    ([yes, send, letter, state, want, verification...\n",
      "17    ([capital, auto, finance, tx, copy, letter, se...\n",
      "18    ([hi, transfer, money, brother, law, bank, acc...\n",
      "19    ([contact, mortgage, company, inform, start, n...\n",
      "dtype: object\n",
      "CPU times: total: 1min 28s\n",
      "Wall time: 2min 24s\n"
     ]
    }
   ],
   "source": [
    "%%time\n",
    "\n",
    "# Tokenize data - same tokenizer function as before\n",
    "sample_tagged = data.apply(lambda r: TaggedDocument(words=spacy_tokenizer(r['Consumer complaint narrative']), tags=[r.Product]), axis=1)\n",
    "print(sample_tagged.head(20))"
   ]
  },
  {
   "cell_type": "code",
   "execution_count": 53,
   "metadata": {
    "colab": {
     "base_uri": "https://localhost:8080/"
    },
    "id": "-hatOMpSPAqw",
    "outputId": "2dc05c09-fbc6-455f-9286-c61cfdc8e8c5"
   },
   "outputs": [
    {
     "data": {
      "text/plain": [
       "TaggedDocument(words=['rushcard', 'access', 'fund', 'account', 'negative', 'balance', 'week', 'customer', 'service', 'hang', 'numerous', 'time', 'hold', 'hr', 'time', 've', 'finally', 'tell', 'idea', 'money', 've', 'file', 'email', 'complaint', 'receive', 'different', 'ticket', 'number', \"''\", 'respond', 'week', 'basically', 'm', 'answer'], tags=['Credit card or prepaid card'])"
      ]
     },
     "execution_count": 53,
     "metadata": {},
     "output_type": "execute_result"
    }
   ],
   "source": [
    "sample_tagged.values[10]"
   ]
  },
  {
   "cell_type": "markdown",
   "metadata": {},
   "source": [
    "Next, we split our dataset into training and test, using the same split as before."
   ]
  },
  {
   "cell_type": "code",
   "execution_count": 54,
   "metadata": {
    "colab": {
     "base_uri": "https://localhost:8080/"
    },
    "id": "KdSvlQf26uZb",
    "outputId": "49e6984c-bec4-4c8b-c6e3-469f407c2fa7"
   },
   "outputs": [],
   "source": [
    "# Train test split - same split as before\n",
    "train_tagged, test_tagged = train_test_split(sample_tagged, test_size=0.2, random_state=1234)"
   ]
  },
  {
   "cell_type": "markdown",
   "metadata": {},
   "source": [
    "To speed up the training process, we use the `multiprocessing` library ([Documentation](https://docs.python.org/3/library/multiprocessing.html)). It will allow to train the model using several worker threads via the parameter `workers` of `Doc2Vec`."
   ]
  },
  {
   "cell_type": "code",
   "execution_count": 55,
   "metadata": {
    "id": "AY_KwtL8ThRV"
   },
   "outputs": [],
   "source": [
    "# Number of CPUs in the system\n",
    "cores = multiprocessing.cpu_count()"
   ]
  },
  {
   "cell_type": "markdown",
   "metadata": {},
   "source": [
    "Next we define the `Doc2Vec` model, using as parameters:\n",
    "- `dm`: training algorithm, if 1 distributed memory is used (PV-DM), else distributed bag of words (PV-DBOW)\n",
    "- `vector_size`: dimension of feature vector\n",
    "- `hs`: if 1, hierarchical softmax will be used for model training; if set to 0, and negative is non-zero, negative sampling will be used\n",
    "- `negative`: specifies how many \"noise words\" should be drawn for negative sampling\n",
    "- `min_count`: ignore words with frequency lower than this\n",
    "- `epochs`: number of iteration (epoch) over the corpus\n",
    "\n",
    "In addition, we build our vocabulary."
   ]
  },
  {
   "cell_type": "code",
   "execution_count": 56,
   "metadata": {
    "colab": {
     "base_uri": "https://localhost:8080/"
    },
    "id": "OhkoBMP_o0HN",
    "outputId": "b918b893-abb4-4116-eb35-1eef2a3c3b40"
   },
   "outputs": [],
   "source": [
    "# Define Doc2Vec and build vocabulary\n",
    "model_dbow = Doc2Vec(dm=0, vector_size=30, negative=6, hs=0, min_count=1, sample=0, workers=cores, epochs=300)\n",
    "model_dbow.build_vocab([x for x in train_tagged.values])"
   ]
  },
  {
   "cell_type": "markdown",
   "metadata": {
    "id": "QqBwLmHGU8XD"
   },
   "source": [
    "We now train the distributed bag of words model. In short, it trains a neural network and the optimal weights are the coefficients of the vectors of the documents. Therefore, similar documents will be close to each other in the N-dimentional space (N being the size of the vectors). More information on this [here](https://thinkinfi.com/simple-doc2vec-explained/)."
   ]
  },
  {
   "cell_type": "code",
   "execution_count": 57,
   "metadata": {
    "id": "vDU2E5fCpHVj"
   },
   "outputs": [],
   "source": [
    "# Train distributed Bag of Word model\n",
    "model_dbow.train(train_tagged, total_examples=model_dbow.corpus_count, epochs=model_dbow.epochs)"
   ]
  },
  {
   "cell_type": "markdown",
   "metadata": {},
   "source": [
    "Next, we convert our tagged documents into vectors using the model we trained. We define a function that use as input our model and tagged documents and returns the targets (i.e., labels) and regressors, i.e., the vector representation of the complaints. We then apply this function to prepare the training and test set for the classification."
   ]
  },
  {
   "cell_type": "code",
   "execution_count": 58,
   "metadata": {
    "id": "1hq_UN6_U0hF"
   },
   "outputs": [],
   "source": [
    "# Embedding\n",
    "def vec_for_learning(model, tagged_docs):\n",
    "    sents = tagged_docs.values\n",
    "    targets, regressors = zip(*[(doc.tags[0], model.infer_vector(doc.words, epochs=100)) for doc in sents])\n",
    "    return targets, regressors\n",
    "\n",
    "y_train, X_train = vec_for_learning(model_dbow, train_tagged)\n",
    "y_test, X_test = vec_for_learning(model_dbow, test_tagged)"
   ]
  },
  {
   "cell_type": "markdown",
   "metadata": {},
   "source": [
    "Note that each document (i.e., complaint) is now a vector in the space of 30 dimentions. Similar complaints should have similar vector representation."
   ]
  },
  {
   "cell_type": "code",
   "execution_count": 59,
   "metadata": {
    "colab": {
     "base_uri": "https://localhost:8080/"
    },
    "id": "O98HjFkWs6QI",
    "outputId": "13e9b1b5-d7eb-4849-fee6-05d07f8fb079"
   },
   "outputs": [
    {
     "data": {
      "text/plain": [
       "(array([ 0.132618  ,  0.04208256, -0.5021517 ,  0.33614376,  0.07931963,\n",
       "         0.21560343, -0.94405454, -0.6679139 , -1.5433534 ,  0.15584125,\n",
       "        -0.7193605 ,  0.56718403,  0.04773099,  0.13492684, -0.40510452,\n",
       "        -0.9872775 ,  0.18949753, -0.370363  ,  0.1187271 , -0.23082379,\n",
       "        -1.1938246 ,  0.5837017 , -1.2132509 , -0.0814781 , -0.41362607,\n",
       "        -0.30256683, -1.2729836 , -0.05234698, -0.48016146,  0.4692039 ],\n",
       "       dtype=float32),\n",
       " array([-0.02096007,  0.13285364, -0.9088828 ,  0.9498269 , -0.2511467 ,\n",
       "        -0.04609252, -0.87175596, -0.6145228 , -0.16000639, -0.34473404,\n",
       "        -0.05370425,  0.37960777, -0.27225518, -0.32593548,  0.35407546,\n",
       "        -0.47326937,  0.52649045,  0.32408002, -0.00142372, -0.41524735,\n",
       "        -1.170233  ,  0.15983061, -0.8288015 , -0.61246634, -0.12932406,\n",
       "        -0.25460905, -0.6120287 , -0.2662064 ,  1.2123199 , -0.28470767],\n",
       "       dtype=float32),\n",
       " array([ 0.03409297, -0.2801329 , -0.8952417 , -0.82633144,  0.45045635,\n",
       "        -0.39924753, -0.53126454, -0.5899498 , -0.8533665 , -0.25503296,\n",
       "         0.4236645 , -0.9191331 , -0.02783246, -0.3418596 ,  1.0149888 ,\n",
       "        -0.8528359 ,  1.5105981 ,  0.22040959,  0.23998185, -0.17139478,\n",
       "         0.62949026,  0.28647837, -1.678103  , -0.6130983 ,  0.8194711 ,\n",
       "         0.42233628, -0.07750336,  0.0232024 , -0.9473804 ,  0.40574867],\n",
       "       dtype=float32))"
      ]
     },
     "execution_count": 59,
     "metadata": {},
     "output_type": "execute_result"
    }
   ],
   "source": [
    "X_train[:3]"
   ]
  },
  {
   "cell_type": "markdown",
   "metadata": {},
   "source": [
    "Ok, we can finally implement our logistic regression. We proceed as before, training the model, predicting on the test set, and evaluating the performance of our classifier."
   ]
  },
  {
   "cell_type": "code",
   "execution_count": 60,
   "metadata": {
    "colab": {
     "base_uri": "https://localhost:8080/",
     "height": 899
    },
    "id": "j0fd2XSFVz1r",
    "outputId": "20b37cc6-b08d-48f0-c0f7-4d97e9f670f1"
   },
   "outputs": [],
   "source": [
    "# Fit model on training set - same algorithm as before\n",
    "logreg = LogisticRegression(max_iter=1000, solver='lbfgs')\n",
    "logreg.fit(X_train, y_train)\n",
    "\n",
    "# Predictions\n",
    "y_pred = logreg.predict(X_test)"
   ]
  },
  {
   "cell_type": "code",
   "execution_count": 61,
   "metadata": {},
   "outputs": [
    {
     "name": "stdout",
     "output_type": "stream",
     "text": [
      "The accuracy using TF-IDF is: 68.15%\n"
     ]
    },
    {
     "data": {
      "image/png": "[encoded data removed]",
      "text/plain": [
       "<Figure size 800x700 with 2 Axes>"
      ]
     },
     "metadata": {},
     "output_type": "display_data"
    }
   ],
   "source": [
    "# Evaluate model\n",
    "\n",
    "## Accuracy\n",
    "accuracy_doc2vec = round(accuracy_score(y_test, y_pred), 4)\n",
    "print(f'The accuracy using TF-IDF is: {accuracy_doc2vec*100:0.2f}%')\n",
    "\n",
    "## Confusion matrix\n",
    "conf_mat = confusion_matrix(y_test, y_pred)\n",
    "fig, ax = plt.subplots(figsize=(8,7))\n",
    "sns.heatmap(conf_mat, annot=True, fmt='d')\n",
    "plt.ylabel('Actual')\n",
    "plt.xlabel('Predicted')\n",
    "plt.show()"
   ]
  },
  {
   "cell_type": "markdown",
   "metadata": {},
   "source": [
    "What do you observe?"
   ]
  },
  {
   "cell_type": "markdown",
   "metadata": {},
   "source": [
    "### How to improve the accuracy of a text classifier?\n",
    "\n",
    "In order to improve the prediction, we can try to:\n",
    "- Resample our data (i.e., create balanced dataset)\n",
    "- Tune the hyperparameters of the model\n",
    "- Improve text preparation\n",
    "- Use another classifier, e.g., k-NN, decision trees, random forests, etc.\n",
    "- All of the above!"
   ]
  },
  {
   "cell_type": "markdown",
   "metadata": {
    "id": "k_jHZwiHjnu_"
   },
   "source": [
    "## Further reading\n",
    "\n",
    "Text Analytics is a rich field. We have seen above one application of text classification. A common application of text classification is [Sentiment Analysis](https://en.wikipedia.org/wiki/Sentiment_analysis), which is the process of tagging data according to their sentiment, such as positive, negative and neutral. You can find a guide to sentiment analysis [here](https://huggingface.co/blog/sentiment-analysis-python). You can also find many already trained models on [Huggingface](https://huggingface.co/models), including ready-made classifier for sentiment analysis.\n",
    "\n",
    "Finally, here are some resources on Word2Vec, GloVe, BERT to deepen your understanding of the topic:\n",
    "- Rong, X. (2014). word2vec parameter learning explained. *arXiv preprint arXiv:*[1411.2738](https://arxiv.org/abs/1411.2738)\n",
    "- [Introduction to Word Embedding and Word2Vec](https://towardsdatascience.com/introduction-to-word-embedding-and-word2vec-652d0c2060fa)\n",
    "- [Word Embeddings for NLP](https://towardsdatascience.com/word-embeddings-for-nlp-5b72991e01d4)\n",
    "- [NLP — Word Embedding & GloVe](https://jonathan-hui.medium.com/nlp-word-embedding-glove-5e7f523999f6)\n",
    "- [Intuitive Guide to Understanding GloVe Embeddings](https://towardsdatascience.com/light-on-math-ml-intuitive-guide-to-understanding-glove-embeddings-b13b4f19c010)\n",
    "- [Word2vec vs BERT](https://medium.com/@ankiit/word2vec-vs-bert-d04ab3ade4c9)\n",
    "- [Text Classification with NLP: Tf-Idf vs Word2Vec vs BERT](https://towardsdatascience.com/text-classification-with-nlp-tf-idf-vs-word2vec-vs-bert-41ff868d1794)"
   ]
  },
  {
   "cell_type": "code",
   "execution_count": null,
   "metadata": {},
   "outputs": [],
   "source": []
  }
 ],
 "metadata": {
  "colab": {
   "collapsed_sections": [
    "r-lFcpJJPXAq",
    "z-_83p20NjO-"
   ],
   "provenance": []
  },
  "kernelspec": {
   "display_name": "Python 3 (ipykernel)",
   "language": "python",
   "name": "python3"
  },
  "language_info": {
   "codemirror_mode": {
    "name": "ipython",
    "version": 3
   },
   "file_extension": ".py",
   "mimetype": "text/x-python",
   "name": "python",
   "nbconvert_exporter": "python",
   "pygments_lexer": "ipython3",
   "version": "3.9.13"
  }
 },
 "nbformat": 4,
 "nbformat_minor": 4
}
